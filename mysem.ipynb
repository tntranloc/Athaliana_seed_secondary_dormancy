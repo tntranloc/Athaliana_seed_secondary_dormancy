{
 "cells": [
  {
   "cell_type": "code",
   "execution_count": 1,
   "id": "3047e647",
   "metadata": {
    "scrolled": true
   },
   "outputs": [],
   "source": [
    "import pandas as pd\n",
    "import numpy as np\n",
    "import semopy\n",
    "import os\n",
    "import graphviz\n",
    "import scipy\n",
    "import sympy\n",
    "import sklearn"
   ]
  },
  {
   "cell_type": "code",
   "execution_count": 2,
   "id": "62251afe",
   "metadata": {},
   "outputs": [],
   "source": [
    "from semopy import Model\n",
    "from semopy import ModelEffects\n",
    "from semopy import ModelMeans\n",
    "from semopy import ModelGeneralizedEffects\n",
    "from semopy import semplot\n",
    "from semopy import report\n",
    "from semopy.effects import EffectStatic, EffectMatern"
   ]
  },
  {
   "cell_type": "code",
   "execution_count": 3,
   "id": "98ce286f",
   "metadata": {},
   "outputs": [
    {
     "data": {
      "text/plain": [
       "'/Users/nhutran'"
      ]
     },
     "execution_count": 3,
     "metadata": {},
     "output_type": "execute_result"
    }
   ],
   "source": [
    "os.getcwd()"
   ]
  },
  {
   "cell_type": "code",
   "execution_count": 4,
   "id": "00e9ec93",
   "metadata": {},
   "outputs": [],
   "source": [
    "os.chdir('/Users/nhutran/Downloads/Datasets')"
   ]
  },
  {
   "cell_type": "code",
   "execution_count": 26,
   "id": "f40f0f9f",
   "metadata": {},
   "outputs": [],
   "source": [
    "df = pd.read_csv('dorm.data.for.path.scaled.csv') \n",
    "kin = pd.read_csv('kinship_subset.csv')"
   ]
  },
  {
   "cell_type": "code",
   "execution_count": 27,
   "id": "cea2debf",
   "metadata": {
    "scrolled": true
   },
   "outputs": [
    {
     "name": "stdout",
     "output_type": "stream",
     "text": [
      "     Unnamed: 0     ID       Admixture     sdorm     pdorm      bio9  \\\n",
      "0             1  10005  central_europe  0.000000  0.166667 -0.830803   \n",
      "1             2  10017  central_europe  0.000000  0.868421 -0.680713   \n",
      "2             3   1002          sweden  0.000000  0.843373 -0.693221   \n",
      "3             4   1061          sweden  0.023256  0.865854 -0.755758   \n",
      "4             5   1062          sweden  0.152778  0.463415 -0.755758   \n",
      "..          ...    ...             ...       ...       ...       ...   \n",
      "240         241   9927  western_europe  0.000000  0.760684  1.345499   \n",
      "241         242   9938  western_europe  0.000000  0.037037 -0.205429   \n",
      "242         243   9949           spain  0.017241  0.000000  1.007797   \n",
      "243         244   9950           spain  0.000000  0.205479  0.332393   \n",
      "244         245    997          sweden  0.000000  0.581395 -0.693221   \n",
      "\n",
      "     2- 6797137  4- 18426284  5- 1181042  5- 23360974  ...  4- 2579478  \\\n",
      "0             0            0           0            0  ...           0   \n",
      "1             0            0           0            0  ...           0   \n",
      "2             0            0           0            0  ...           0   \n",
      "3             0            0           0            0  ...           0   \n",
      "4             0            0           0            0  ...           0   \n",
      "..          ...          ...         ...          ...  ...         ...   \n",
      "240           0            0           0            1  ...           0   \n",
      "241           0            0           0            0  ...           0   \n",
      "242           0            0           0            0  ...           0   \n",
      "243           0            0           0            0  ...           0   \n",
      "244           0            0           0            0  ...           0   \n",
      "\n",
      "     4- 5313081  4- 5608212  5- 13675598  5- 15490683  5- 22658620  \\\n",
      "0             0           0            0            0            1   \n",
      "1             0           0            0            0            1   \n",
      "2             0           0            0            0            1   \n",
      "3             0           0            0            0            1   \n",
      "4             0           0            0            0            1   \n",
      "..          ...         ...          ...          ...          ...   \n",
      "240           0           0            0            0            1   \n",
      "241           0           0            0            0            1   \n",
      "242           0           0            0            0            1   \n",
      "243           0           0            0            0            1   \n",
      "244           0           0            0            0            1   \n",
      "\n",
      "     5- 23918021  5- 24305240  5- 25477213  5- 4545374  \n",
      "0              0            0            1           0  \n",
      "1              0            0            1           0  \n",
      "2              0            0            1           0  \n",
      "3              0            1            1           0  \n",
      "4              0            0            1           0  \n",
      "..           ...          ...          ...         ...  \n",
      "240            0            0            1           0  \n",
      "241            0            0            1           0  \n",
      "242            0            0            1           0  \n",
      "243            0            0            1           0  \n",
      "244            0            0            1           0  \n",
      "\n",
      "[245 rows x 51 columns]\n"
     ]
    }
   ],
   "source": [
    "print(df)"
   ]
  },
  {
   "cell_type": "code",
   "execution_count": 17,
   "id": "297ecf73",
   "metadata": {},
   "outputs": [
    {
     "name": "stdout",
     "output_type": "stream",
     "text": [
      "ID               int64\n",
      "Admixture       object\n",
      "sdorm          float64\n",
      "pdorm          float64\n",
      "bio9           float64\n",
      "2- 6797137       int64\n",
      "4- 18426284      int64\n",
      "5- 1181042       int64\n",
      "5- 23360974      int64\n",
      "5- 25979622      int64\n",
      "5- 25982051      int64\n",
      "5- 4746209       int64\n",
      "5- 8005087       int64\n",
      "1- 10011495      int64\n",
      "1- 16607646      int64\n",
      "1- 16628398      int64\n",
      "1- 25418645      int64\n",
      "1- 28691178      int64\n",
      "1- 5098952       int64\n",
      "3- 12343743      int64\n",
      "3- 14836038      int64\n",
      "3- 15876741      int64\n",
      "3- 15904659      int64\n",
      "3- 15908641      int64\n",
      "3- 15925528      int64\n",
      "3- 15934344      int64\n",
      "3- 15939471      int64\n",
      "3- 15947919      int64\n",
      "3- 15948342      int64\n",
      "3- 15951743      int64\n",
      "3- 15955372      int64\n",
      "3- 15958227      int64\n",
      "3- 15960768      int64\n",
      "3- 15962712      int64\n",
      "3- 16725340      int64\n",
      "3- 22199113      int64\n",
      "3- 8613078       int64\n",
      "3- 8613179       int64\n",
      "4- 11991365      int64\n",
      "4- 2122267       int64\n",
      "4- 2579478       int64\n",
      "4- 5313081       int64\n",
      "4- 5608212       int64\n",
      "5- 13675598      int64\n",
      "5- 15490683      int64\n",
      "5- 22658620      int64\n",
      "5- 23918021      int64\n",
      "5- 24305240      int64\n",
      "5- 25477213      int64\n",
      "5- 4545374       int64\n",
      "Genotype        object\n",
      "FT10           float64\n",
      "FT10sd         float64\n",
      "FT16           float64\n",
      "FT16sd         float64\n",
      "dtype: object\n"
     ]
    }
   ],
   "source": [
    "print(df.dtypes)"
   ]
  },
  {
   "cell_type": "code",
   "execution_count": 8,
   "id": "2fafe9cd",
   "metadata": {
    "scrolled": true
   },
   "outputs": [
    {
     "data": {
      "text/html": [
       "<div>\n",
       "<style scoped>\n",
       "    .dataframe tbody tr th:only-of-type {\n",
       "        vertical-align: middle;\n",
       "    }\n",
       "\n",
       "    .dataframe tbody tr th {\n",
       "        vertical-align: top;\n",
       "    }\n",
       "\n",
       "    .dataframe thead th {\n",
       "        text-align: right;\n",
       "    }\n",
       "</style>\n",
       "<table border=\"1\" class=\"dataframe\">\n",
       "  <thead>\n",
       "    <tr style=\"text-align: right;\">\n",
       "      <th></th>\n",
       "      <th>Unnamed: 0</th>\n",
       "      <th>10005</th>\n",
       "      <th>10017</th>\n",
       "      <th>1002</th>\n",
       "      <th>1061</th>\n",
       "      <th>1062</th>\n",
       "      <th>1063</th>\n",
       "      <th>1066</th>\n",
       "      <th>115930</th>\n",
       "      <th>115932</th>\n",
       "      <th>...</th>\n",
       "      <th>9892</th>\n",
       "      <th>9895</th>\n",
       "      <th>9897</th>\n",
       "      <th>9899</th>\n",
       "      <th>9902</th>\n",
       "      <th>9927</th>\n",
       "      <th>9938</th>\n",
       "      <th>9949</th>\n",
       "      <th>9950</th>\n",
       "      <th>997</th>\n",
       "    </tr>\n",
       "  </thead>\n",
       "  <tbody>\n",
       "    <tr>\n",
       "      <th>0</th>\n",
       "      <td>10005</td>\n",
       "      <td>1.000000</td>\n",
       "      <td>0.931834</td>\n",
       "      <td>0.922550</td>\n",
       "      <td>0.921968</td>\n",
       "      <td>0.922785</td>\n",
       "      <td>0.923433</td>\n",
       "      <td>0.922802</td>\n",
       "      <td>0.909508</td>\n",
       "      <td>0.909386</td>\n",
       "      <td>...</td>\n",
       "      <td>0.918690</td>\n",
       "      <td>0.922320</td>\n",
       "      <td>0.916508</td>\n",
       "      <td>0.913292</td>\n",
       "      <td>0.916601</td>\n",
       "      <td>0.921755</td>\n",
       "      <td>0.918985</td>\n",
       "      <td>0.921159</td>\n",
       "      <td>0.914508</td>\n",
       "      <td>0.921758</td>\n",
       "    </tr>\n",
       "    <tr>\n",
       "      <th>1</th>\n",
       "      <td>10017</td>\n",
       "      <td>0.931834</td>\n",
       "      <td>1.000000</td>\n",
       "      <td>0.922823</td>\n",
       "      <td>0.922134</td>\n",
       "      <td>0.923612</td>\n",
       "      <td>0.924265</td>\n",
       "      <td>0.925857</td>\n",
       "      <td>0.910783</td>\n",
       "      <td>0.910711</td>\n",
       "      <td>...</td>\n",
       "      <td>0.919713</td>\n",
       "      <td>0.921705</td>\n",
       "      <td>0.918105</td>\n",
       "      <td>0.914079</td>\n",
       "      <td>0.918340</td>\n",
       "      <td>0.921455</td>\n",
       "      <td>0.918492</td>\n",
       "      <td>0.921462</td>\n",
       "      <td>0.914462</td>\n",
       "      <td>0.923564</td>\n",
       "    </tr>\n",
       "    <tr>\n",
       "      <th>2</th>\n",
       "      <td>1002</td>\n",
       "      <td>0.922550</td>\n",
       "      <td>0.922823</td>\n",
       "      <td>1.000000</td>\n",
       "      <td>0.925608</td>\n",
       "      <td>0.929417</td>\n",
       "      <td>0.925470</td>\n",
       "      <td>0.923922</td>\n",
       "      <td>0.909847</td>\n",
       "      <td>0.910065</td>\n",
       "      <td>...</td>\n",
       "      <td>0.917241</td>\n",
       "      <td>0.919874</td>\n",
       "      <td>0.914510</td>\n",
       "      <td>0.913926</td>\n",
       "      <td>0.917529</td>\n",
       "      <td>0.920691</td>\n",
       "      <td>0.918948</td>\n",
       "      <td>0.918661</td>\n",
       "      <td>0.913631</td>\n",
       "      <td>0.933996</td>\n",
       "    </tr>\n",
       "    <tr>\n",
       "      <th>3</th>\n",
       "      <td>1061</td>\n",
       "      <td>0.921968</td>\n",
       "      <td>0.922134</td>\n",
       "      <td>0.925608</td>\n",
       "      <td>1.000000</td>\n",
       "      <td>0.925226</td>\n",
       "      <td>0.928644</td>\n",
       "      <td>0.945829</td>\n",
       "      <td>0.908530</td>\n",
       "      <td>0.908696</td>\n",
       "      <td>...</td>\n",
       "      <td>0.917450</td>\n",
       "      <td>0.921191</td>\n",
       "      <td>0.915599</td>\n",
       "      <td>0.913841</td>\n",
       "      <td>0.916793</td>\n",
       "      <td>0.921199</td>\n",
       "      <td>0.920318</td>\n",
       "      <td>0.920771</td>\n",
       "      <td>0.913917</td>\n",
       "      <td>0.926721</td>\n",
       "    </tr>\n",
       "    <tr>\n",
       "      <th>4</th>\n",
       "      <td>1062</td>\n",
       "      <td>0.922785</td>\n",
       "      <td>0.923612</td>\n",
       "      <td>0.929417</td>\n",
       "      <td>0.925226</td>\n",
       "      <td>1.000000</td>\n",
       "      <td>0.938889</td>\n",
       "      <td>0.936406</td>\n",
       "      <td>0.910698</td>\n",
       "      <td>0.910702</td>\n",
       "      <td>...</td>\n",
       "      <td>0.918380</td>\n",
       "      <td>0.922343</td>\n",
       "      <td>0.917731</td>\n",
       "      <td>0.915365</td>\n",
       "      <td>0.919369</td>\n",
       "      <td>0.922232</td>\n",
       "      <td>0.921073</td>\n",
       "      <td>0.922953</td>\n",
       "      <td>0.916404</td>\n",
       "      <td>0.929407</td>\n",
       "    </tr>\n",
       "  </tbody>\n",
       "</table>\n",
       "<p>5 rows × 246 columns</p>\n",
       "</div>"
      ],
      "text/plain": [
       "   Unnamed: 0     10005     10017      1002      1061      1062      1063  \\\n",
       "0       10005  1.000000  0.931834  0.922550  0.921968  0.922785  0.923433   \n",
       "1       10017  0.931834  1.000000  0.922823  0.922134  0.923612  0.924265   \n",
       "2        1002  0.922550  0.922823  1.000000  0.925608  0.929417  0.925470   \n",
       "3        1061  0.921968  0.922134  0.925608  1.000000  0.925226  0.928644   \n",
       "4        1062  0.922785  0.923612  0.929417  0.925226  1.000000  0.938889   \n",
       "\n",
       "       1066    115930    115932  ...      9892      9895      9897      9899  \\\n",
       "0  0.922802  0.909508  0.909386  ...  0.918690  0.922320  0.916508  0.913292   \n",
       "1  0.925857  0.910783  0.910711  ...  0.919713  0.921705  0.918105  0.914079   \n",
       "2  0.923922  0.909847  0.910065  ...  0.917241  0.919874  0.914510  0.913926   \n",
       "3  0.945829  0.908530  0.908696  ...  0.917450  0.921191  0.915599  0.913841   \n",
       "4  0.936406  0.910698  0.910702  ...  0.918380  0.922343  0.917731  0.915365   \n",
       "\n",
       "       9902      9927      9938      9949      9950       997  \n",
       "0  0.916601  0.921755  0.918985  0.921159  0.914508  0.921758  \n",
       "1  0.918340  0.921455  0.918492  0.921462  0.914462  0.923564  \n",
       "2  0.917529  0.920691  0.918948  0.918661  0.913631  0.933996  \n",
       "3  0.916793  0.921199  0.920318  0.920771  0.913917  0.926721  \n",
       "4  0.919369  0.922232  0.921073  0.922953  0.916404  0.929407  \n",
       "\n",
       "[5 rows x 246 columns]"
      ]
     },
     "execution_count": 8,
     "metadata": {},
     "output_type": "execute_result"
    }
   ],
   "source": [
    "kin.head()"
   ]
  },
  {
   "cell_type": "code",
   "execution_count": 5,
   "id": "3b1d7e09",
   "metadata": {},
   "outputs": [],
   "source": [
    "kin.rename(columns = {list(kin)[0]:'ID'}, inplace=True)"
   ]
  },
  {
   "cell_type": "code",
   "execution_count": 6,
   "id": "3f873fa3",
   "metadata": {},
   "outputs": [],
   "source": [
    "kin1 = kin.set_index('ID')"
   ]
  },
  {
   "cell_type": "code",
   "execution_count": 11,
   "id": "8144ab00",
   "metadata": {
    "scrolled": true
   },
   "outputs": [
    {
     "name": "stdout",
     "output_type": "stream",
     "text": [
      "          10005     10017      1002      1061      1062      1063      1066  \\\n",
      "ID                                                                            \n",
      "10005  1.000000  0.931834  0.922550  0.921968  0.922785  0.923433  0.922802   \n",
      "10017  0.931834  1.000000  0.922823  0.922134  0.923612  0.924265  0.925857   \n",
      "1002   0.922550  0.922823  1.000000  0.925608  0.929417  0.925470  0.923922   \n",
      "1061   0.921968  0.922134  0.925608  1.000000  0.925226  0.928644  0.945829   \n",
      "1062   0.922785  0.923612  0.929417  0.925226  1.000000  0.938889  0.936406   \n",
      "...         ...       ...       ...       ...       ...       ...       ...   \n",
      "9927   0.921755  0.921455  0.920691  0.921199  0.922232  0.919842  0.920806   \n",
      "9938   0.918985  0.918492  0.918948  0.920318  0.921073  0.918324  0.920385   \n",
      "9949   0.921159  0.921462  0.918661  0.920771  0.922953  0.921519  0.921167   \n",
      "9950   0.914508  0.914462  0.913631  0.913917  0.916404  0.914410  0.915363   \n",
      "997    0.921758  0.923564  0.933996  0.926721  0.929407  0.925740  0.926881   \n",
      "\n",
      "         115930    115932    115936  ...      9892      9895      9897  \\\n",
      "ID                                   ...                                 \n",
      "10005  0.909508  0.909386  0.909218  ...  0.918690  0.922320  0.916508   \n",
      "10017  0.910783  0.910711  0.910097  ...  0.919713  0.921705  0.918105   \n",
      "1002   0.909847  0.910065  0.907087  ...  0.917241  0.919874  0.914510   \n",
      "1061   0.908530  0.908696  0.908614  ...  0.917450  0.921191  0.915599   \n",
      "1062   0.910698  0.910702  0.909950  ...  0.918380  0.922343  0.917731   \n",
      "...         ...       ...       ...  ...       ...       ...       ...   \n",
      "9927   0.918049  0.918172  0.917423  ...  0.920125  0.924422  0.918005   \n",
      "9938   0.914340  0.914366  0.912490  ...  0.919336  0.922307  0.917113   \n",
      "9949   0.912764  0.912748  0.911610  ...  0.929108  0.924424  0.923532   \n",
      "9950   0.904642  0.904671  0.904676  ...  0.912431  0.924197  0.913776   \n",
      "997    0.909937  0.910087  0.909521  ...  0.917152  0.920763  0.916405   \n",
      "\n",
      "           9899      9902      9927      9938      9949      9950       997  \n",
      "ID                                                                           \n",
      "10005  0.913292  0.916601  0.921755  0.918985  0.921159  0.914508  0.921758  \n",
      "10017  0.914079  0.918340  0.921455  0.918492  0.921462  0.914462  0.923564  \n",
      "1002   0.913926  0.917529  0.920691  0.918948  0.918661  0.913631  0.933996  \n",
      "1061   0.913841  0.916793  0.921199  0.920318  0.920771  0.913917  0.926721  \n",
      "1062   0.915365  0.919369  0.922232  0.921073  0.922953  0.916404  0.929407  \n",
      "...         ...       ...       ...       ...       ...       ...       ...  \n",
      "9927   0.915574  0.919931  1.000000  0.923211  0.923793  0.916209  0.921450  \n",
      "9938   0.911643  0.917414  0.923211  1.000000  0.923619  0.914723  0.919785  \n",
      "9949   0.912401  0.920309  0.923793  0.923619  1.000000  0.914227  0.921331  \n",
      "9950   0.931344  0.927052  0.916209  0.914723  0.914227  1.000000  0.914448  \n",
      "997    0.914600  0.916267  0.921450  0.919785  0.921331  0.914448  1.000000  \n",
      "\n",
      "[245 rows x 245 columns]\n"
     ]
    }
   ],
   "source": [
    "print(kin1)"
   ]
  },
  {
   "cell_type": "code",
   "execution_count": 28,
   "id": "864d4316",
   "metadata": {},
   "outputs": [],
   "source": [
    "df_sub = df[[\"ID\",\"Admixture\",\"sdorm\",\"pdorm\",\"bio9\",\n",
    "             \"5- 25979622\",\"4- 18426284\",\"2- 6797137\",\n",
    "            \"3- 15904659\",\"4- 5313081\",\"5- 22658620\",\"1- 5098952\"]]"
   ]
  },
  {
   "cell_type": "code",
   "execution_count": 30,
   "id": "f551d047",
   "metadata": {
    "scrolled": false
   },
   "outputs": [
    {
     "data": {
      "text/html": [
       "<div>\n",
       "<style scoped>\n",
       "    .dataframe tbody tr th:only-of-type {\n",
       "        vertical-align: middle;\n",
       "    }\n",
       "\n",
       "    .dataframe tbody tr th {\n",
       "        vertical-align: top;\n",
       "    }\n",
       "\n",
       "    .dataframe thead th {\n",
       "        text-align: right;\n",
       "    }\n",
       "</style>\n",
       "<table border=\"1\" class=\"dataframe\">\n",
       "  <thead>\n",
       "    <tr style=\"text-align: right;\">\n",
       "      <th></th>\n",
       "      <th>ID</th>\n",
       "      <th>Admixture</th>\n",
       "      <th>sdorm</th>\n",
       "      <th>pdorm</th>\n",
       "      <th>bio9</th>\n",
       "      <th>snp5b</th>\n",
       "      <th>snp4b</th>\n",
       "      <th>snp2b</th>\n",
       "      <th>snp3s</th>\n",
       "      <th>snp4s</th>\n",
       "      <th>snp5s</th>\n",
       "      <th>snp1s</th>\n",
       "    </tr>\n",
       "  </thead>\n",
       "  <tbody>\n",
       "    <tr>\n",
       "      <th>0</th>\n",
       "      <td>10005</td>\n",
       "      <td>central_europe</td>\n",
       "      <td>0.000000</td>\n",
       "      <td>0.166667</td>\n",
       "      <td>-0.830803</td>\n",
       "      <td>0</td>\n",
       "      <td>0</td>\n",
       "      <td>0</td>\n",
       "      <td>1</td>\n",
       "      <td>0</td>\n",
       "      <td>1</td>\n",
       "      <td>0.0</td>\n",
       "    </tr>\n",
       "    <tr>\n",
       "      <th>1</th>\n",
       "      <td>10017</td>\n",
       "      <td>central_europe</td>\n",
       "      <td>0.000000</td>\n",
       "      <td>0.868421</td>\n",
       "      <td>-0.680713</td>\n",
       "      <td>0</td>\n",
       "      <td>0</td>\n",
       "      <td>0</td>\n",
       "      <td>1</td>\n",
       "      <td>0</td>\n",
       "      <td>1</td>\n",
       "      <td>0.0</td>\n",
       "    </tr>\n",
       "    <tr>\n",
       "      <th>2</th>\n",
       "      <td>1002</td>\n",
       "      <td>sweden</td>\n",
       "      <td>0.000000</td>\n",
       "      <td>0.843373</td>\n",
       "      <td>-0.693221</td>\n",
       "      <td>0</td>\n",
       "      <td>0</td>\n",
       "      <td>0</td>\n",
       "      <td>1</td>\n",
       "      <td>0</td>\n",
       "      <td>1</td>\n",
       "      <td>0.0</td>\n",
       "    </tr>\n",
       "    <tr>\n",
       "      <th>3</th>\n",
       "      <td>1061</td>\n",
       "      <td>sweden</td>\n",
       "      <td>0.023256</td>\n",
       "      <td>0.865854</td>\n",
       "      <td>-0.755758</td>\n",
       "      <td>0</td>\n",
       "      <td>0</td>\n",
       "      <td>0</td>\n",
       "      <td>1</td>\n",
       "      <td>0</td>\n",
       "      <td>1</td>\n",
       "      <td>0.0</td>\n",
       "    </tr>\n",
       "    <tr>\n",
       "      <th>4</th>\n",
       "      <td>1062</td>\n",
       "      <td>sweden</td>\n",
       "      <td>0.152778</td>\n",
       "      <td>0.463415</td>\n",
       "      <td>-0.755758</td>\n",
       "      <td>0</td>\n",
       "      <td>0</td>\n",
       "      <td>0</td>\n",
       "      <td>1</td>\n",
       "      <td>0</td>\n",
       "      <td>1</td>\n",
       "      <td>0.0</td>\n",
       "    </tr>\n",
       "  </tbody>\n",
       "</table>\n",
       "</div>"
      ],
      "text/plain": [
       "      ID       Admixture     sdorm     pdorm      bio9  snp5b  snp4b  snp2b  \\\n",
       "0  10005  central_europe  0.000000  0.166667 -0.830803      0      0      0   \n",
       "1  10017  central_europe  0.000000  0.868421 -0.680713      0      0      0   \n",
       "2   1002          sweden  0.000000  0.843373 -0.693221      0      0      0   \n",
       "3   1061          sweden  0.023256  0.865854 -0.755758      0      0      0   \n",
       "4   1062          sweden  0.152778  0.463415 -0.755758      0      0      0   \n",
       "\n",
       "   snp3s  snp4s  snp5s  snp1s  \n",
       "0      1      0      1    0.0  \n",
       "1      1      0      1    0.0  \n",
       "2      1      0      1    0.0  \n",
       "3      1      0      1    0.0  \n",
       "4      1      0      1    0.0  "
      ]
     },
     "execution_count": 30,
     "metadata": {},
     "output_type": "execute_result"
    }
   ],
   "source": [
    "df_sub.head()"
   ]
  },
  {
   "cell_type": "code",
   "execution_count": 29,
   "id": "1213e97c",
   "metadata": {
    "scrolled": false
   },
   "outputs": [
    {
     "name": "stderr",
     "output_type": "stream",
     "text": [
      "/Users/nhutran/opt/anaconda3/lib/python3.9/site-packages/pandas/core/frame.py:5039: SettingWithCopyWarning: \n",
      "A value is trying to be set on a copy of a slice from a DataFrame\n",
      "\n",
      "See the caveats in the documentation: https://pandas.pydata.org/pandas-docs/stable/user_guide/indexing.html#returning-a-view-versus-a-copy\n",
      "  return super().rename(\n"
     ]
    }
   ],
   "source": [
    "df_sub.rename(columns={'5- 25979622':'snp5b','4- 18426284':'snp4b','2- 6797137':'snp2b',\n",
    "                      '3- 15904659': 'snp3s', '4- 5313081':'snp4s','5- 22658620':'snp5s',\n",
    "                      '1- 5098952':'snp1s'}, inplace=True)"
   ]
  },
  {
   "cell_type": "code",
   "execution_count": 32,
   "id": "30f9a9f5",
   "metadata": {},
   "outputs": [],
   "source": [
    "df_sub1 = df_sub[[\"ID\",\"Admixture\",\"sdorm\",\"pdorm\",\"bio9\",\n",
    "             \"snp5b\",\"snp3s\"]]"
   ]
  },
  {
   "cell_type": "code",
   "execution_count": 33,
   "id": "b25fb651",
   "metadata": {
    "scrolled": true
   },
   "outputs": [
    {
     "data": {
      "text/html": [
       "<div>\n",
       "<style scoped>\n",
       "    .dataframe tbody tr th:only-of-type {\n",
       "        vertical-align: middle;\n",
       "    }\n",
       "\n",
       "    .dataframe tbody tr th {\n",
       "        vertical-align: top;\n",
       "    }\n",
       "\n",
       "    .dataframe thead th {\n",
       "        text-align: right;\n",
       "    }\n",
       "</style>\n",
       "<table border=\"1\" class=\"dataframe\">\n",
       "  <thead>\n",
       "    <tr style=\"text-align: right;\">\n",
       "      <th></th>\n",
       "      <th>ID</th>\n",
       "      <th>Admixture</th>\n",
       "      <th>sdorm</th>\n",
       "      <th>pdorm</th>\n",
       "      <th>bio9</th>\n",
       "      <th>snp5b</th>\n",
       "      <th>snp3s</th>\n",
       "    </tr>\n",
       "  </thead>\n",
       "  <tbody>\n",
       "    <tr>\n",
       "      <th>0</th>\n",
       "      <td>10005</td>\n",
       "      <td>central_europe</td>\n",
       "      <td>0.000000</td>\n",
       "      <td>0.166667</td>\n",
       "      <td>-0.830803</td>\n",
       "      <td>0</td>\n",
       "      <td>1</td>\n",
       "    </tr>\n",
       "    <tr>\n",
       "      <th>1</th>\n",
       "      <td>10017</td>\n",
       "      <td>central_europe</td>\n",
       "      <td>0.000000</td>\n",
       "      <td>0.868421</td>\n",
       "      <td>-0.680713</td>\n",
       "      <td>0</td>\n",
       "      <td>1</td>\n",
       "    </tr>\n",
       "    <tr>\n",
       "      <th>2</th>\n",
       "      <td>1002</td>\n",
       "      <td>sweden</td>\n",
       "      <td>0.000000</td>\n",
       "      <td>0.843373</td>\n",
       "      <td>-0.693221</td>\n",
       "      <td>0</td>\n",
       "      <td>1</td>\n",
       "    </tr>\n",
       "    <tr>\n",
       "      <th>3</th>\n",
       "      <td>1061</td>\n",
       "      <td>sweden</td>\n",
       "      <td>0.023256</td>\n",
       "      <td>0.865854</td>\n",
       "      <td>-0.755758</td>\n",
       "      <td>0</td>\n",
       "      <td>1</td>\n",
       "    </tr>\n",
       "    <tr>\n",
       "      <th>4</th>\n",
       "      <td>1062</td>\n",
       "      <td>sweden</td>\n",
       "      <td>0.152778</td>\n",
       "      <td>0.463415</td>\n",
       "      <td>-0.755758</td>\n",
       "      <td>0</td>\n",
       "      <td>1</td>\n",
       "    </tr>\n",
       "  </tbody>\n",
       "</table>\n",
       "</div>"
      ],
      "text/plain": [
       "      ID       Admixture     sdorm     pdorm      bio9  snp5b  snp3s\n",
       "0  10005  central_europe  0.000000  0.166667 -0.830803      0      1\n",
       "1  10017  central_europe  0.000000  0.868421 -0.680713      0      1\n",
       "2   1002          sweden  0.000000  0.843373 -0.693221      0      1\n",
       "3   1061          sweden  0.023256  0.865854 -0.755758      0      1\n",
       "4   1062          sweden  0.152778  0.463415 -0.755758      0      1"
      ]
     },
     "execution_count": 33,
     "metadata": {},
     "output_type": "execute_result"
    }
   ],
   "source": [
    "df_sub1.head()"
   ]
  },
  {
   "cell_type": "code",
   "execution_count": 16,
   "id": "5265c4ad",
   "metadata": {},
   "outputs": [
    {
     "data": {
      "text/plain": [
       "10005"
      ]
     },
     "execution_count": 16,
     "metadata": {},
     "output_type": "execute_result"
    }
   ],
   "source": [
    "kin.iloc[0,0]"
   ]
  },
  {
   "cell_type": "code",
   "execution_count": 13,
   "id": "1b43818f",
   "metadata": {
    "scrolled": true
   },
   "outputs": [
    {
     "data": {
      "text/plain": [
       "10005"
      ]
     },
     "execution_count": 13,
     "metadata": {},
     "output_type": "execute_result"
    }
   ],
   "source": [
    "df_sub1.iloc[0,0]"
   ]
  },
  {
   "cell_type": "code",
   "execution_count": 21,
   "id": "c3f67010",
   "metadata": {
    "scrolled": true
   },
   "outputs": [
    {
     "data": {
      "text/plain": [
       "array([ 10005,  10017,   1002,   1061,   1062,   1063,   1066, 115930,\n",
       "       115932, 115936, 115942, 115944, 115946, 115948, 115950, 115954,\n",
       "       115958, 115962, 115964, 115968, 115972, 115974, 115976, 115980,\n",
       "       115992, 115994, 115996, 116004, 116006, 116008, 116012, 116014,\n",
       "       116026,    139,    410,   5831,   5832,   5865,   5867,   5907,\n",
       "         6019,   6020,   6023,   6024,   6035,   6036,   6038,   6039,\n",
       "         6040,   6041,   6073,   6076,   6085,   6090,   6094,   6097,\n",
       "         6100,   6104,   6105,   6106,   6107,   6108,   6111,   6112,\n",
       "         6114,   6118,   6122,   6125,   6126,   6128,   6132,   6133,\n",
       "         6134,   6136,   6138,   6140,   6142,   6145,   6148,   6150,\n",
       "         6188,   6189,   6191,   6192,   6194,   6195,   6198,   6202,\n",
       "         6203,   6296,   6424,   6445,   6903,   6915,   6933,   6945,\n",
       "         6957,   6961,   6970,   6971,   6974,   6981,   6982,   6987,\n",
       "         6989,   7003,   7008,   7013,   7058,   7062,   7119,   7133,\n",
       "         7147,   7158,   7164,   7169,   7177,   7244,   7255,   7268,\n",
       "         7276,   7288,   7305,   7327,   7328,   7343,   7354,   7382,\n",
       "         8222,   8231,   8234,   8237,   8240,   8241,   8242,   8247,\n",
       "         8249,   8256,   8259,   8264,   8306,   8307,   8326,   8335,\n",
       "         8369,   8386,   8387,   8420,   8422,   8426,   9057,   9339,\n",
       "         9369,   9380,   9395,   9399,   9404,   9405,   9407,   9408,\n",
       "         9409,   9421,   9436,   9453,   9454,   9506,   9517,   9519,\n",
       "         9524,   9525,   9526,   9531,   9532,   9539,   9547,   9551,\n",
       "         9556,   9557,   9561,   9562,   9564,   9565,   9567,   9568,\n",
       "         9569,   9573,   9577,   9578,   9584,   9585,   9586,   9587,\n",
       "         9589,   9593,   9594,   9595,   9596,   9597,   9599,   9601,\n",
       "         9602,   9739,   9756,   9776,   9778,   9784,   9795,   9804,\n",
       "         9807,   9820,   9822,   9825,   9826,   9835,   9836,   9838,\n",
       "         9840,   9841,   9844,   9845,   9846,   9851,   9852,   9859,\n",
       "         9861,   9864,   9867,   9868,   9874,   9876,   9881,   9883,\n",
       "         9886,   9888,   9890,   9892,   9895,   9897,   9899,   9902,\n",
       "         9927,   9938,   9949,   9950,    997])"
      ]
     },
     "execution_count": 21,
     "metadata": {},
     "output_type": "execute_result"
    }
   ],
   "source": [
    "kin1.columns.values"
   ]
  },
  {
   "cell_type": "code",
   "execution_count": 12,
   "id": "75022e42",
   "metadata": {},
   "outputs": [],
   "source": [
    "kin1.columns = kin1.columns.astype(int)"
   ]
  },
  {
   "cell_type": "code",
   "execution_count": 41,
   "id": "d17b21c6",
   "metadata": {},
   "outputs": [],
   "source": [
    "desc='''\n",
    "#measurement model\n",
    "fitness =~ sdorm + pdorm \n",
    "\n",
    "#regressions\n",
    "fitness, sdorm, pdorm ~ bio9\n",
    "snp5b ~ bio9\n",
    "sdorm ~ snp3s \n",
    "fitness ~ snp3s + snp5b \n",
    "\n",
    "#residual correlations\n",
    "sdorm ~~ pdorm\n",
    "'''"
   ]
  },
  {
   "cell_type": "code",
   "execution_count": 79,
   "id": "70203c67",
   "metadata": {},
   "outputs": [],
   "source": [
    "ef = [EffectStatic('group',kin1)]"
   ]
  },
  {
   "cell_type": "code",
   "execution_count": 42,
   "id": "e4e44364",
   "metadata": {
    "scrolled": true
   },
   "outputs": [],
   "source": [
    "mod1 = semopy.ModelEffects(desc,)"
   ]
  },
  {
   "cell_type": "code",
   "execution_count": 119,
   "id": "07eb9698",
   "metadata": {},
   "outputs": [],
   "source": [
    "data = df_sub1\n",
    "k = kin1"
   ]
  },
  {
   "cell_type": "code",
   "execution_count": 44,
   "id": "ccff9c54",
   "metadata": {
    "scrolled": true
   },
   "outputs": [
    {
     "name": "stdout",
     "output_type": "stream",
     "text": [
      "Name of objective: ML\n",
      "Optimization method: SLSQP\n",
      "Optimization successful.\n",
      "Optimization terminated successfully\n",
      "Objective value: -1279.423\n",
      "Number of iterations: 182\n",
      "Params: 8.201 0.006 -0.021 -0.006 -0.479 0.587 -0.024 0.536 0.033 -0.225 -0.121 0.168 0.000 0.000 0.011 0.000 1.336 0.553 0.816\n"
     ]
    }
   ],
   "source": [
    "print(res)"
   ]
  },
  {
   "cell_type": "code",
   "execution_count": 45,
   "id": "1dc60ffc",
   "metadata": {},
   "outputs": [
    {
     "name": "stdout",
     "output_type": "stream",
     "text": [
      "       lval  op     rval      Estimate    Std. Err   z-value   p-value\n",
      "0   fitness   ~    snp5b -1.206833e-01    2.953598  -0.04086  0.967408\n",
      "1   fitness   ~     bio9  6.033692e-03    0.157763  0.038245  0.969492\n",
      "2   fitness   ~    snp3s -2.123448e-02    0.665642 -0.031901  0.974551\n",
      "3     snp5b   ~     bio9  3.308027e-02     0.00385  8.593251       0.0\n",
      "4     sdorm   ~     bio9 -6.393658e-03     0.06091 -0.104969    0.9164\n",
      "5     sdorm   ~    snp3s -4.790910e-01    0.668465 -0.716704  0.473557\n",
      "6     pdorm   ~     bio9 -2.359116e-02    0.025938 -0.909535  0.363068\n",
      "7     sdorm   ~  fitness  1.000000e+00           -         -         -\n",
      "8     pdorm   ~  fitness  8.200565e+00  257.022331  0.031906  0.974547\n",
      "9     snp5b   ~        1 -2.252750e-01    0.864536 -0.260573  0.794422\n",
      "10    sdorm   ~        1  5.872925e-01    0.948858  0.618946  0.535952\n",
      "11    pdorm   ~        1  5.359076e-01    1.670226  0.320859  0.748317\n",
      "12    snp5b  ~~    snp5b  1.120741e-02     0.11994  0.093442  0.925552\n",
      "13  fitness  ~~  fitness  2.615912e-12    0.001818       0.0       1.0\n",
      "14    sdorm  ~~    pdorm  1.683358e-01    0.065709  2.561843  0.010412\n",
      "15    sdorm  ~~    sdorm  2.819919e-08     0.06798       0.0       1.0\n",
      "16    pdorm  ~~    pdorm  8.881484e-09     0.00905  0.000001  0.999999\n",
      "17    pdorm  RF    pdorm  1.336385e+00    0.159379  8.384953       0.0\n",
      "18    sdorm  RF    sdorm  5.531876e-01    0.102741  5.384275       0.0\n",
      "19    snp5b  RF    snp5b  8.163704e-01    0.158716  5.143601       0.0\n"
     ]
    }
   ],
   "source": [
    "print(mod1.inspect())"
   ]
  },
  {
   "cell_type": "code",
   "execution_count": 46,
   "id": "b54cca9e",
   "metadata": {
    "scrolled": false
   },
   "outputs": [
    {
     "data": {
      "text/html": [
       "<div>\n",
       "<style scoped>\n",
       "    .dataframe tbody tr th:only-of-type {\n",
       "        vertical-align: middle;\n",
       "    }\n",
       "\n",
       "    .dataframe tbody tr th {\n",
       "        vertical-align: top;\n",
       "    }\n",
       "\n",
       "    .dataframe thead th {\n",
       "        text-align: right;\n",
       "    }\n",
       "</style>\n",
       "<table border=\"1\" class=\"dataframe\">\n",
       "  <thead>\n",
       "    <tr style=\"text-align: right;\">\n",
       "      <th></th>\n",
       "      <th>fitness</th>\n",
       "    </tr>\n",
       "  </thead>\n",
       "  <tbody>\n",
       "    <tr>\n",
       "      <th>0</th>\n",
       "      <td>0.002408</td>\n",
       "    </tr>\n",
       "    <tr>\n",
       "      <th>1</th>\n",
       "      <td>0.014037</td>\n",
       "    </tr>\n",
       "    <tr>\n",
       "      <th>2</th>\n",
       "      <td>0.012213</td>\n",
       "    </tr>\n",
       "    <tr>\n",
       "      <th>3</th>\n",
       "      <td>0.010971</td>\n",
       "    </tr>\n",
       "    <tr>\n",
       "      <th>4</th>\n",
       "      <td>0.006976</td>\n",
       "    </tr>\n",
       "  </tbody>\n",
       "</table>\n",
       "</div>"
      ],
      "text/plain": [
       "    fitness\n",
       "0  0.002408\n",
       "1  0.014037\n",
       "2  0.012213\n",
       "3  0.010971\n",
       "4  0.006976"
      ]
     },
     "execution_count": 46,
     "metadata": {},
     "output_type": "execute_result"
    }
   ],
   "source": [
    "mod1.predict_factors(data).head()"
   ]
  },
  {
   "cell_type": "code",
   "execution_count": 37,
   "id": "1e9b6b0c",
   "metadata": {},
   "outputs": [],
   "source": [
    "g =semopy.semplot(mod1, \"Test.png\")"
   ]
  },
  {
   "cell_type": "code",
   "execution_count": 70,
   "id": "68eb1667",
   "metadata": {},
   "outputs": [],
   "source": [
    "from semopy.examples import political_democracy\n",
    "from semopy import ModelMeans\n",
    "\n",
    "desc = political_democracy.get_model()\n",
    "data = political_democracy.get_data()\n",
    "model = ModelMeans(desc)\n",
    "model.fit(data)\n",
    "report(model, \"Political Democracy\")"
   ]
  },
  {
   "cell_type": "code",
   "execution_count": 68,
   "id": "b24f93de",
   "metadata": {},
   "outputs": [
    {
     "name": "stdout",
     "output_type": "stream",
     "text": [
      "<semopy.model_means.ModelMeans object at 0x7f8c20468d60>\n"
     ]
    }
   ],
   "source": [
    "print(model)"
   ]
  },
  {
   "cell_type": "code",
   "execution_count": 40,
   "id": "3355978d",
   "metadata": {},
   "outputs": [
    {
     "name": "stdout",
     "output_type": "stream",
     "text": [
      "# measurement model\n",
      "ind60 =~ x1 + x2 + x3\n",
      "dem60 =~ y1 + y2 + y3 + y4\n",
      "dem65 =~ y5 + y6 + y7 + y8\n",
      "# regressions\n",
      "dem60 ~ ind60\n",
      "dem65 ~ ind60 + dem60\n",
      "# residual correlations\n",
      "y1 ~~ y5\n",
      "y2 ~~ y4 + y6\n",
      "y3 ~~ y7\n",
      "y4 ~~ y8\n",
      "y6 ~~ y8\n"
     ]
    }
   ],
   "source": [
    "print(desc)"
   ]
  },
  {
   "cell_type": "code",
   "execution_count": 98,
   "id": "8c82a726",
   "metadata": {},
   "outputs": [
    {
     "name": "stdout",
     "output_type": "stream",
     "text": [
      "<semopy.model_effects.ModelEffects object at 0x7f8c2cc29730>\n"
     ]
    }
   ],
   "source": [
    "print(mod)"
   ]
  },
  {
   "cell_type": "code",
   "execution_count": 106,
   "id": "d624acca",
   "metadata": {},
   "outputs": [
    {
     "name": "stderr",
     "output_type": "stream",
     "text": [
      "WARNING:root:Fisher Information Matrix is not PD.Moore-Penrose inverse will be used instead of Cholesky decomposition. See 10.1109/TSP.2012.2208105.\n",
      "WARNING:root:Fisher Information Matrix is not PD.Moore-Penrose inverse will be used instead of Cholesky decomposition. See 10.1109/TSP.2012.2208105.\n",
      "WARNING:root:Fisher Information Matrix is not PD.Moore-Penrose inverse will be used instead of Cholesky decomposition. See 10.1109/TSP.2012.2208105.\n",
      "WARNING:root:Fisher Information Matrix is not PD.Moore-Penrose inverse will be used instead of Cholesky decomposition. See 10.1109/TSP.2012.2208105.\n",
      "WARNING:root:Fisher Information Matrix is not PD.Moore-Penrose inverse will be used instead of Cholesky decomposition. See 10.1109/TSP.2012.2208105.\n",
      "WARNING:root:Fisher Information Matrix is not PD.Moore-Penrose inverse will be used instead of Cholesky decomposition. See 10.1109/TSP.2012.2208105.\n"
     ]
    }
   ],
   "source": [
    "desc='''\n",
    "#measurement model\n",
    "fitness =~ sdorm + pdorm \n",
    "\n",
    "#regressions\n",
    "sdorm, pdorm ~ bio9\n",
    "snp5b ~ bio9\n",
    "sdorm ~ snp3s \n",
    "\n",
    "#residual correlations\n",
    "sdorm ~~ pdorm\n",
    "'''\n",
    "\n",
    "data=df_sub1 \n",
    "k = kin1\n",
    "m = Model(desc,)\n",
    "m.fit(data)\n",
    "m.predict_factors(data).head()\n",
    "m.inspect()\n",
    "report(m, \"semopy.Model\")"
   ]
  },
  {
   "cell_type": "code",
   "execution_count": 105,
   "id": "f8526632",
   "metadata": {},
   "outputs": [
    {
     "name": "stdout",
     "output_type": "stream",
     "text": [
      "<semopy.model.Model object at 0x7f8c2cc29e20>\n"
     ]
    }
   ],
   "source": [
    "print(m)"
   ]
  },
  {
   "cell_type": "code",
   "execution_count": 157,
   "id": "df3d1f41",
   "metadata": {},
   "outputs": [],
   "source": [
    "ft = pd.read_csv(\"dorm.data.for.path.withFT.csv\")\n",
    "\n"
   ]
  },
  {
   "cell_type": "code",
   "execution_count": 162,
   "id": "e78c5b7e",
   "metadata": {
    "scrolled": false
   },
   "outputs": [
    {
     "data": {
      "text/html": [
       "<div>\n",
       "<style scoped>\n",
       "    .dataframe tbody tr th:only-of-type {\n",
       "        vertical-align: middle;\n",
       "    }\n",
       "\n",
       "    .dataframe tbody tr th {\n",
       "        vertical-align: top;\n",
       "    }\n",
       "\n",
       "    .dataframe thead th {\n",
       "        text-align: right;\n",
       "    }\n",
       "</style>\n",
       "<table border=\"1\" class=\"dataframe\">\n",
       "  <thead>\n",
       "    <tr style=\"text-align: right;\">\n",
       "      <th></th>\n",
       "      <th>ID</th>\n",
       "      <th>Admixture</th>\n",
       "      <th>sdorm</th>\n",
       "      <th>pdorm</th>\n",
       "      <th>FT16</th>\n",
       "      <th>bio9</th>\n",
       "      <th>snp5b</th>\n",
       "      <th>snp4b</th>\n",
       "      <th>snp2b</th>\n",
       "      <th>snp3s</th>\n",
       "      <th>snp4s</th>\n",
       "      <th>snp5s</th>\n",
       "      <th>snp1s</th>\n",
       "    </tr>\n",
       "  </thead>\n",
       "  <tbody>\n",
       "    <tr>\n",
       "      <th>0</th>\n",
       "      <td>10005</td>\n",
       "      <td>central_europe</td>\n",
       "      <td>0.000000</td>\n",
       "      <td>0.166667</td>\n",
       "      <td>67.25</td>\n",
       "      <td>1.3</td>\n",
       "      <td>0</td>\n",
       "      <td>0</td>\n",
       "      <td>0</td>\n",
       "      <td>1</td>\n",
       "      <td>0</td>\n",
       "      <td>1</td>\n",
       "      <td>0</td>\n",
       "    </tr>\n",
       "    <tr>\n",
       "      <th>1</th>\n",
       "      <td>10017</td>\n",
       "      <td>central_europe</td>\n",
       "      <td>0.000000</td>\n",
       "      <td>0.868421</td>\n",
       "      <td>76.50</td>\n",
       "      <td>2.5</td>\n",
       "      <td>0</td>\n",
       "      <td>0</td>\n",
       "      <td>0</td>\n",
       "      <td>1</td>\n",
       "      <td>0</td>\n",
       "      <td>1</td>\n",
       "      <td>0</td>\n",
       "    </tr>\n",
       "    <tr>\n",
       "      <th>2</th>\n",
       "      <td>1002</td>\n",
       "      <td>sweden</td>\n",
       "      <td>0.000000</td>\n",
       "      <td>0.843373</td>\n",
       "      <td>86.25</td>\n",
       "      <td>2.4</td>\n",
       "      <td>0</td>\n",
       "      <td>0</td>\n",
       "      <td>0</td>\n",
       "      <td>1</td>\n",
       "      <td>0</td>\n",
       "      <td>1</td>\n",
       "      <td>0</td>\n",
       "    </tr>\n",
       "    <tr>\n",
       "      <th>3</th>\n",
       "      <td>1061</td>\n",
       "      <td>sweden</td>\n",
       "      <td>0.023256</td>\n",
       "      <td>0.865854</td>\n",
       "      <td>94.75</td>\n",
       "      <td>1.9</td>\n",
       "      <td>0</td>\n",
       "      <td>0</td>\n",
       "      <td>0</td>\n",
       "      <td>1</td>\n",
       "      <td>0</td>\n",
       "      <td>1</td>\n",
       "      <td>0</td>\n",
       "    </tr>\n",
       "    <tr>\n",
       "      <th>4</th>\n",
       "      <td>1062</td>\n",
       "      <td>sweden</td>\n",
       "      <td>0.152778</td>\n",
       "      <td>0.463415</td>\n",
       "      <td>68.25</td>\n",
       "      <td>1.9</td>\n",
       "      <td>0</td>\n",
       "      <td>0</td>\n",
       "      <td>0</td>\n",
       "      <td>1</td>\n",
       "      <td>0</td>\n",
       "      <td>1</td>\n",
       "      <td>0</td>\n",
       "    </tr>\n",
       "  </tbody>\n",
       "</table>\n",
       "</div>"
      ],
      "text/plain": [
       "      ID       Admixture     sdorm     pdorm   FT16  bio9  snp5b  snp4b  \\\n",
       "0  10005  central_europe  0.000000  0.166667  67.25   1.3      0      0   \n",
       "1  10017  central_europe  0.000000  0.868421  76.50   2.5      0      0   \n",
       "2   1002          sweden  0.000000  0.843373  86.25   2.4      0      0   \n",
       "3   1061          sweden  0.023256  0.865854  94.75   1.9      0      0   \n",
       "4   1062          sweden  0.152778  0.463415  68.25   1.9      0      0   \n",
       "\n",
       "   snp2b  snp3s  snp4s  snp5s  snp1s  \n",
       "0      0      1      0      1      0  \n",
       "1      0      1      0      1      0  \n",
       "2      0      1      0      1      0  \n",
       "3      0      1      0      1      0  \n",
       "4      0      1      0      1      0  "
      ]
     },
     "execution_count": 162,
     "metadata": {},
     "output_type": "execute_result"
    }
   ],
   "source": [
    "ft.head()"
   ]
  },
  {
   "cell_type": "code",
   "execution_count": 159,
   "id": "b1c5a7eb",
   "metadata": {},
   "outputs": [],
   "source": [
    "ft_sub = ft[[\"ID\",\"Admixture\",\"sdorm\",\"pdorm\",\"FT16\",\"bio9\",\n",
    "             \"5- 25979622\",\"4- 18426284\",\"2- 6797137\",\n",
    "            \"3- 15904659\",\"4- 5313081\",\"5- 22658620\",\"1- 5098952\"]]"
   ]
  },
  {
   "cell_type": "code",
   "execution_count": 160,
   "id": "f7eb9eb1",
   "metadata": {},
   "outputs": [
    {
     "name": "stderr",
     "output_type": "stream",
     "text": [
      "/Users/nhutran/opt/anaconda3/lib/python3.9/site-packages/pandas/core/frame.py:5039: SettingWithCopyWarning: \n",
      "A value is trying to be set on a copy of a slice from a DataFrame\n",
      "\n",
      "See the caveats in the documentation: https://pandas.pydata.org/pandas-docs/stable/user_guide/indexing.html#returning-a-view-versus-a-copy\n",
      "  return super().rename(\n"
     ]
    }
   ],
   "source": [
    "ft_sub.rename(columns={'5- 25979622':'snp5b','4- 18426284':'snp4b','2- 6797137':'snp2b',\n",
    "                      '3- 15904659': 'snp3s', '4- 5313081':'snp4s','5- 22658620':'snp5s',\n",
    "                      '1- 5098952':'snp1s'}, inplace=True)"
   ]
  },
  {
   "cell_type": "code",
   "execution_count": 163,
   "id": "298526b9",
   "metadata": {},
   "outputs": [],
   "source": [
    "desc='''\n",
    "#measurement model\n",
    "fitness =~ sdorm + pdorm + FT16\n",
    "\n",
    "#regressions\n",
    "sdorm, pdorm ~ bio9\n",
    "snp5b ~ bio9\n",
    "FT16 ~ snp5b\n",
    "sdorm ~ snp3s \n",
    "\n",
    "#residual correlations\n",
    "sdorm ~~ pdorm\n",
    "pdorm ~~ FT16\n",
    "'''\n",
    "\n",
    "data=ft_sub \n",
    "k = kin1\n",
    "m1 = Model(desc,)\n",
    "m1.fit(data)\n",
    "m1.inspect(std_est=True)\n",
    "report(m1, \"semopy.Model1\")"
   ]
  },
  {
   "cell_type": "code",
   "execution_count": null,
   "id": "5b4d2ffd",
   "metadata": {},
   "outputs": [],
   "source": []
  },
  {
   "cell_type": "code",
   "execution_count": 164,
   "id": "a26493cc",
   "metadata": {},
   "outputs": [
    {
     "name": "stderr",
     "output_type": "stream",
     "text": [
      "WARNING:root:Fisher Information Matrix is not PD.Moore-Penrose inverse will be used instead of Cholesky decomposition. See 10.1109/TSP.2012.2208105.\n",
      "WARNING:root:Fisher Information Matrix is not PD.Moore-Penrose inverse will be used instead of Cholesky decomposition. See 10.1109/TSP.2012.2208105.\n",
      "WARNING:root:Fisher Information Matrix is not PD.Moore-Penrose inverse will be used instead of Cholesky decomposition. See 10.1109/TSP.2012.2208105.\n",
      "WARNING:root:Fisher Information Matrix is not PD.Moore-Penrose inverse will be used instead of Cholesky decomposition. See 10.1109/TSP.2012.2208105.\n",
      "WARNING:root:Fisher Information Matrix is not PD.Moore-Penrose inverse will be used instead of Cholesky decomposition. See 10.1109/TSP.2012.2208105.\n",
      "WARNING:root:Fisher Information Matrix is not PD.Moore-Penrose inverse will be used instead of Cholesky decomposition. See 10.1109/TSP.2012.2208105.\n"
     ]
    }
   ],
   "source": [
    "desc='''\n",
    "#measurement model\n",
    "fitness =~ sdorm + pdorm \n",
    "\n",
    "#regressions\n",
    "sdorm, pdorm ~ bio9\n",
    "snp5b ~ bio9\n",
    "sdorm ~ snp3s \n",
    "sdorm ~ pdorm\n",
    "\n",
    "#residual correlations\n",
    "sdorm ~~ pdorm\n",
    "'''\n",
    "\n",
    "data=df_sub1 \n",
    "k = kin1\n",
    "m = Model(desc,)\n",
    "m.fit(data)\n",
    "m.predict_factors(data).head()\n",
    "m.inspect()\n",
    "report(m, \"semopy.Model2\")"
   ]
  },
  {
   "cell_type": "code",
   "execution_count": null,
   "id": "2e083fba",
   "metadata": {},
   "outputs": [],
   "source": []
  },
  {
   "cell_type": "code",
   "execution_count": null,
   "id": "f3c2cb0f",
   "metadata": {},
   "outputs": [],
   "source": []
  },
  {
   "cell_type": "code",
   "execution_count": 34,
   "id": "d6379fbe",
   "metadata": {},
   "outputs": [
    {
     "name": "stdout",
     "output_type": "stream",
     "text": [
      "    lval  op  rval      Estimate     Std. Err    z-value   p-value\n",
      "0   eta2   ~  eta1  2.935078e+00     0.221928  13.225368       0.0\n",
      "1     y1   ~  eta1  1.000000e+00            -          -         -\n",
      "2     y2   ~  eta1  3.068165e+00     0.227658  13.477069       0.0\n",
      "3     y3   ~  eta2  1.000000e+00            -          -         -\n",
      "4     y4   ~  eta2 -2.379006e-02      2.67944  -0.008879  0.992916\n",
      "5     x2   ~  eta1  2.127267e+00     0.170096  12.506251       0.0\n",
      "6     x1   ~  eta1 -2.366354e+00     0.185135 -12.781745       0.0\n",
      "7     x2   ~     1  3.445911e-01     0.595696   0.578468  0.562948\n",
      "8     x1   ~     1 -5.109069e-01     0.658448  -0.775925  0.437793\n",
      "9     y1   ~     1  3.778589e-01     0.302049   1.250985   0.21094\n",
      "10    y2   ~     1  6.741427e-01     0.841232   0.801375  0.422914\n",
      "11    y3   ~     1  5.946280e-01     0.808902   0.735105  0.462275\n",
      "12    y4   ~     1 -9.542497e-01    14.949565  -0.063831  0.949105\n",
      "13  eta2  ~~  eta2  1.621088e-18  10816.70334        0.0       1.0\n",
      "14  eta1  ~~  eta1  4.995548e+01    16.421567   3.042065   0.00235\n",
      "15    y2  ~~    y2  0.000000e+00  1805.572411        0.0       1.0\n",
      "16    y1  ~~    y1  0.000000e+00  1805.572409        0.0       1.0\n",
      "17    x1  ~~    x1  1.520605e-17  1805.572417        0.0       1.0\n",
      "18    x2  ~~    x2  0.000000e+00  1805.572409        0.0       1.0\n",
      "19    y4  ~~    y4  0.000000e+00  1805.569031        0.0       1.0\n",
      "20    y3  ~~    y3  0.000000e+00  1805.692321        0.0       1.0\n",
      "21    x1  RF    x1  5.313770e-02     6.016011   0.008833  0.992953\n",
      "22    x2  RF    x2  5.312767e-02      6.01601   0.008831  0.992954\n",
      "23    y1  RF    y1  4.086402e-02     6.015909   0.006793   0.99458\n",
      "24    y2  RF    y2  4.119525e-02     6.015919   0.006848  0.994536\n",
      "25    y3  RF    y3  5.295064e-02    30.031253   0.001763  0.998593\n",
      "26    y4  RF    y4  5.078092e+02   150.978378   3.363456   0.00077\n"
     ]
    },
    {
     "ename": "Exception",
     "evalue": "Data must be provided.",
     "output_type": "error",
     "traceback": [
      "\u001b[0;31m---------------------------------------------------------------------------\u001b[0m",
      "\u001b[0;31mException\u001b[0m                                 Traceback (most recent call last)",
      "\u001b[0;32m/var/folders/_n/6f9lbyk959q4h617mnpxbxx40000gn/T/ipykernel_91239/344241332.py\u001b[0m in \u001b[0;36m<module>\u001b[0;34m\u001b[0m\n\u001b[1;32m      7\u001b[0m \u001b[0mmodel\u001b[0m\u001b[0;34m.\u001b[0m\u001b[0mfit\u001b[0m\u001b[0;34m(\u001b[0m\u001b[0mdata\u001b[0m\u001b[0;34m,\u001b[0m \u001b[0mgroup\u001b[0m\u001b[0;34m=\u001b[0m\u001b[0;34m'group'\u001b[0m\u001b[0;34m,\u001b[0m \u001b[0mk\u001b[0m\u001b[0;34m=\u001b[0m\u001b[0mk\u001b[0m\u001b[0;34m)\u001b[0m\u001b[0;34m\u001b[0m\u001b[0;34m\u001b[0m\u001b[0m\n\u001b[1;32m      8\u001b[0m \u001b[0mprint\u001b[0m\u001b[0;34m(\u001b[0m\u001b[0mmodel\u001b[0m\u001b[0;34m.\u001b[0m\u001b[0minspect\u001b[0m\u001b[0;34m(\u001b[0m\u001b[0;34m)\u001b[0m\u001b[0;34m)\u001b[0m\u001b[0;34m\u001b[0m\u001b[0;34m\u001b[0m\u001b[0m\n\u001b[0;32m----> 9\u001b[0;31m \u001b[0mreport\u001b[0m\u001b[0;34m(\u001b[0m\u001b[0mmodel\u001b[0m\u001b[0;34m,\u001b[0m\u001b[0;34m\"Example2\"\u001b[0m\u001b[0;34m)\u001b[0m\u001b[0;34m\u001b[0m\u001b[0;34m\u001b[0m\u001b[0m\n\u001b[0m",
      "\u001b[0;32m~/opt/anaconda3/lib/python3.9/site-packages/semopy/report/report.py\u001b[0m in \u001b[0;36mreport\u001b[0;34m(model, name, path, std_est, se_robust, **kwargs)\u001b[0m\n\u001b[1;32m    250\u001b[0m         \u001b[0mlogging\u001b[0m\u001b[0;34m.\u001b[0m\u001b[0mwarning\u001b[0m\u001b[0;34m(\u001b[0m\u001b[0ms\u001b[0m \u001b[0;34m+\u001b[0m \u001b[0;34m' '\u001b[0m \u001b[0;34m+\u001b[0m \u001b[0mstr\u001b[0m\u001b[0;34m(\u001b[0m\u001b[0me\u001b[0m\u001b[0;34m)\u001b[0m\u001b[0;34m)\u001b[0m\u001b[0;34m\u001b[0m\u001b[0;34m\u001b[0m\u001b[0m\n\u001b[1;32m    251\u001b[0m         \u001b[0mvis\u001b[0m \u001b[0;34m=\u001b[0m \u001b[0;34mf'<div class=\"alert alert-warning\" role=\"alert\">{s}</div>'\u001b[0m\u001b[0;34m\u001b[0m\u001b[0;34m\u001b[0m\u001b[0m\n\u001b[0;32m--> 252\u001b[0;31m     \u001b[0mstats\u001b[0m \u001b[0;34m=\u001b[0m \u001b[0mcalc_stats\u001b[0m\u001b[0;34m(\u001b[0m\u001b[0mmodel\u001b[0m\u001b[0;34m)\u001b[0m\u001b[0;34m\u001b[0m\u001b[0;34m\u001b[0m\u001b[0m\n\u001b[0m\u001b[1;32m    253\u001b[0m     \u001b[0mfitindices\u001b[0m \u001b[0;34m=\u001b[0m \u001b[0mstr\u001b[0m\u001b[0;34m(\u001b[0m\u001b[0;34m)\u001b[0m\u001b[0;34m\u001b[0m\u001b[0;34m\u001b[0m\u001b[0m\n\u001b[1;32m    254\u001b[0m     \u001b[0;32mfor\u001b[0m \u001b[0mi\u001b[0m \u001b[0;32min\u001b[0m \u001b[0mrange\u001b[0m\u001b[0;34m(\u001b[0m\u001b[0;36m0\u001b[0m\u001b[0;34m,\u001b[0m \u001b[0mstats\u001b[0m\u001b[0;34m.\u001b[0m\u001b[0mshape\u001b[0m\u001b[0;34m[\u001b[0m\u001b[0;36m1\u001b[0m\u001b[0;34m]\u001b[0m\u001b[0;34m,\u001b[0m \u001b[0;36m5\u001b[0m\u001b[0;34m)\u001b[0m\u001b[0;34m:\u001b[0m\u001b[0;34m\u001b[0m\u001b[0;34m\u001b[0m\u001b[0m\n",
      "\u001b[0;32m~/opt/anaconda3/lib/python3.9/site-packages/semopy/stats.py\u001b[0m in \u001b[0;36mcalc_stats\u001b[0;34m(model)\u001b[0m\n\u001b[1;32m    594\u001b[0m     \u001b[0mbic\u001b[0m \u001b[0;34m=\u001b[0m \u001b[0mcalc_bic\u001b[0m\u001b[0;34m(\u001b[0m\u001b[0mmodel\u001b[0m\u001b[0;34m,\u001b[0m \u001b[0mlh\u001b[0m\u001b[0;34m)\u001b[0m\u001b[0;34m\u001b[0m\u001b[0;34m\u001b[0m\u001b[0m\n\u001b[1;32m    595\u001b[0m     \u001b[0mdof\u001b[0m \u001b[0;34m=\u001b[0m \u001b[0mcalc_dof\u001b[0m\u001b[0;34m(\u001b[0m\u001b[0mmodel\u001b[0m\u001b[0;34m)\u001b[0m\u001b[0;34m\u001b[0m\u001b[0;34m\u001b[0m\u001b[0m\n\u001b[0;32m--> 596\u001b[0;31m     \u001b[0mchi2_base\u001b[0m\u001b[0;34m,\u001b[0m \u001b[0mdof_base\u001b[0m \u001b[0;34m=\u001b[0m \u001b[0m__get_chi2_base\u001b[0m\u001b[0;34m(\u001b[0m\u001b[0mmodel\u001b[0m\u001b[0;34m)\u001b[0m\u001b[0;34m\u001b[0m\u001b[0;34m\u001b[0m\u001b[0m\n\u001b[0m\u001b[1;32m    597\u001b[0m     \u001b[0mchi2\u001b[0m \u001b[0;34m=\u001b[0m \u001b[0mcalc_chi2\u001b[0m\u001b[0;34m(\u001b[0m\u001b[0mmodel\u001b[0m\u001b[0;34m,\u001b[0m \u001b[0mdof\u001b[0m\u001b[0;34m)\u001b[0m\u001b[0;34m\u001b[0m\u001b[0;34m\u001b[0m\u001b[0m\n\u001b[1;32m    598\u001b[0m     \u001b[0mrmsea\u001b[0m \u001b[0;34m=\u001b[0m \u001b[0mcalc_rmsea\u001b[0m\u001b[0;34m(\u001b[0m\u001b[0mmodel\u001b[0m\u001b[0;34m,\u001b[0m \u001b[0mchi2\u001b[0m\u001b[0;34m[\u001b[0m\u001b[0;36m0\u001b[0m\u001b[0;34m]\u001b[0m\u001b[0;34m,\u001b[0m \u001b[0mdof\u001b[0m\u001b[0;34m)\u001b[0m\u001b[0;34m\u001b[0m\u001b[0;34m\u001b[0m\u001b[0m\n",
      "\u001b[0;32m~/opt/anaconda3/lib/python3.9/site-packages/semopy/stats.py\u001b[0m in \u001b[0;36m__get_chi2_base\u001b[0;34m(model)\u001b[0m\n\u001b[1;32m    108\u001b[0m         \u001b[0;32mif\u001b[0m \u001b[0mobj\u001b[0m \u001b[0;34m==\u001b[0m \u001b[0;34m'FIML'\u001b[0m\u001b[0;34m:\u001b[0m\u001b[0;34m\u001b[0m\u001b[0;34m\u001b[0m\u001b[0m\n\u001b[1;32m    109\u001b[0m             \u001b[0mobj\u001b[0m \u001b[0;34m=\u001b[0m \u001b[0;34m'ML'\u001b[0m\u001b[0;34m\u001b[0m\u001b[0;34m\u001b[0m\u001b[0m\n\u001b[0;32m--> 110\u001b[0;31m     \u001b[0mmod_base\u001b[0m\u001b[0;34m.\u001b[0m\u001b[0mfit\u001b[0m\u001b[0;34m(\u001b[0m\u001b[0mobj\u001b[0m\u001b[0;34m=\u001b[0m\u001b[0mobj\u001b[0m\u001b[0;34m)\u001b[0m\u001b[0;34m\u001b[0m\u001b[0;34m\u001b[0m\u001b[0m\n\u001b[0m\u001b[1;32m    111\u001b[0m     \u001b[0mchi2_base\u001b[0m \u001b[0;34m=\u001b[0m \u001b[0mcalc_chi2\u001b[0m\u001b[0;34m(\u001b[0m\u001b[0mmod_base\u001b[0m\u001b[0;34m)\u001b[0m\u001b[0;34m[\u001b[0m\u001b[0;36m0\u001b[0m\u001b[0;34m]\u001b[0m\u001b[0;34m\u001b[0m\u001b[0;34m\u001b[0m\u001b[0m\n\u001b[1;32m    112\u001b[0m     \u001b[0;32mreturn\u001b[0m \u001b[0mchi2_base\u001b[0m\u001b[0;34m,\u001b[0m \u001b[0mcalc_dof\u001b[0m\u001b[0;34m(\u001b[0m\u001b[0mmod_base\u001b[0m\u001b[0;34m)\u001b[0m\u001b[0;34m\u001b[0m\u001b[0;34m\u001b[0m\u001b[0m\n",
      "\u001b[0;32m~/opt/anaconda3/lib/python3.9/site-packages/semopy/model_effects.py\u001b[0m in \u001b[0;36mfit\u001b[0;34m(self, data, group, k, cov, obj, solver, clean_slate, regularization, **kwargs)\u001b[0m\n\u001b[1;32m    291\u001b[0m \u001b[0;34m\u001b[0m\u001b[0m\n\u001b[1;32m    292\u001b[0m         \"\"\"\n\u001b[0;32m--> 293\u001b[0;31m         self.load(data=data, cov=cov, group=group, k=k,\n\u001b[0m\u001b[1;32m    294\u001b[0m                   clean_slate=clean_slate, obj=obj)\n\u001b[1;32m    295\u001b[0m         \u001b[0;32mif\u001b[0m \u001b[0;32mnot\u001b[0m \u001b[0mhasattr\u001b[0m\u001b[0;34m(\u001b[0m\u001b[0mself\u001b[0m\u001b[0;34m,\u001b[0m \u001b[0;34m'mx_data'\u001b[0m\u001b[0;34m)\u001b[0m\u001b[0;34m:\u001b[0m\u001b[0;34m\u001b[0m\u001b[0;34m\u001b[0m\u001b[0m\n",
      "\u001b[0;32m~/opt/anaconda3/lib/python3.9/site-packages/semopy/model_effects.py\u001b[0m in \u001b[0;36mload\u001b[0;34m(self, data, group, k, cov, clean_slate, n_samples, obj)\u001b[0m\n\u001b[1;32m    212\u001b[0m         \u001b[0;32mif\u001b[0m \u001b[0mdata\u001b[0m \u001b[0;32mis\u001b[0m \u001b[0;32mNone\u001b[0m\u001b[0;34m:\u001b[0m\u001b[0;34m\u001b[0m\u001b[0;34m\u001b[0m\u001b[0m\n\u001b[1;32m    213\u001b[0m             \u001b[0;32mif\u001b[0m \u001b[0;32mnot\u001b[0m \u001b[0mhasattr\u001b[0m\u001b[0;34m(\u001b[0m\u001b[0mself\u001b[0m\u001b[0;34m,\u001b[0m \u001b[0;34m'mx_data'\u001b[0m\u001b[0;34m)\u001b[0m\u001b[0;34m:\u001b[0m\u001b[0;34m\u001b[0m\u001b[0;34m\u001b[0m\u001b[0m\n\u001b[0;32m--> 214\u001b[0;31m                 \u001b[0;32mraise\u001b[0m \u001b[0mException\u001b[0m\u001b[0;34m(\u001b[0m\u001b[0;34m\"Data must be provided.\"\u001b[0m\u001b[0;34m)\u001b[0m\u001b[0;34m\u001b[0m\u001b[0;34m\u001b[0m\u001b[0m\n\u001b[0m\u001b[1;32m    215\u001b[0m             \u001b[0;32mif\u001b[0m \u001b[0mclean_slate\u001b[0m\u001b[0;34m:\u001b[0m\u001b[0;34m\u001b[0m\u001b[0;34m\u001b[0m\u001b[0m\n\u001b[1;32m    216\u001b[0m                 \u001b[0mself\u001b[0m\u001b[0;34m.\u001b[0m\u001b[0mprepare_params\u001b[0m\u001b[0;34m(\u001b[0m\u001b[0;34m)\u001b[0m\u001b[0;34m\u001b[0m\u001b[0;34m\u001b[0m\u001b[0m\n",
      "\u001b[0;31mException\u001b[0m: Data must be provided."
     ]
    }
   ],
   "source": [
    "from semopy.examples import example_rf\n",
    "\n",
    "desc = example_rf.get_model()\n",
    "data, k = example_rf.get_data()\n",
    "\n",
    "model = ModelEffects(desc)\n",
    "model.fit(data, group='group', k=k)\n",
    "print(model.inspect())\n",
    "report(model,\"Example2\")"
   ]
  },
  {
   "cell_type": "code",
   "execution_count": 21,
   "id": "cc9ccfc0",
   "metadata": {},
   "outputs": [],
   "source": [
    "from semopy import report"
   ]
  },
  {
   "cell_type": "code",
   "execution_count": 166,
   "id": "40eef890",
   "metadata": {},
   "outputs": [],
   "source": [
    "mytuple = (df_sub1,kin1)"
   ]
  },
  {
   "cell_type": "code",
   "execution_count": 167,
   "id": "0c4d73ec",
   "metadata": {
    "scrolled": true
   },
   "outputs": [],
   "source": [
    "df, kk = mytuple"
   ]
  },
  {
   "cell_type": "code",
   "execution_count": 156,
   "id": "63917086",
   "metadata": {
    "scrolled": true
   },
   "outputs": [
    {
     "data": {
      "text/html": [
       "<div>\n",
       "<style scoped>\n",
       "    .dataframe tbody tr th:only-of-type {\n",
       "        vertical-align: middle;\n",
       "    }\n",
       "\n",
       "    .dataframe tbody tr th {\n",
       "        vertical-align: top;\n",
       "    }\n",
       "\n",
       "    .dataframe thead th {\n",
       "        text-align: right;\n",
       "    }\n",
       "</style>\n",
       "<table border=\"1\" class=\"dataframe\">\n",
       "  <thead>\n",
       "    <tr style=\"text-align: right;\">\n",
       "      <th></th>\n",
       "      <th>lval</th>\n",
       "      <th>op</th>\n",
       "      <th>rval</th>\n",
       "      <th>Estimate</th>\n",
       "      <th>Std. Err</th>\n",
       "      <th>z-value</th>\n",
       "      <th>p-value</th>\n",
       "    </tr>\n",
       "  </thead>\n",
       "  <tbody>\n",
       "    <tr>\n",
       "      <th>0</th>\n",
       "      <td>sdorm</td>\n",
       "      <td>~</td>\n",
       "      <td>bio9</td>\n",
       "      <td>-4.450344e-03</td>\n",
       "      <td>0.003189</td>\n",
       "      <td>-1.395386</td>\n",
       "      <td>0.1629</td>\n",
       "    </tr>\n",
       "    <tr>\n",
       "      <th>1</th>\n",
       "      <td>sdorm</td>\n",
       "      <td>~</td>\n",
       "      <td>snp3s</td>\n",
       "      <td>-4.778993e-01</td>\n",
       "      <td>0.062625</td>\n",
       "      <td>-7.63118</td>\n",
       "      <td>0.0</td>\n",
       "    </tr>\n",
       "    <tr>\n",
       "      <th>2</th>\n",
       "      <td>pdorm</td>\n",
       "      <td>~</td>\n",
       "      <td>bio9</td>\n",
       "      <td>-7.868225e-03</td>\n",
       "      <td>0.004976</td>\n",
       "      <td>-1.581154</td>\n",
       "      <td>0.113843</td>\n",
       "    </tr>\n",
       "    <tr>\n",
       "      <th>3</th>\n",
       "      <td>snp5b</td>\n",
       "      <td>~</td>\n",
       "      <td>bio9</td>\n",
       "      <td>3.304421e-02</td>\n",
       "      <td>0.003864</td>\n",
       "      <td>8.551633</td>\n",
       "      <td>0.0</td>\n",
       "    </tr>\n",
       "    <tr>\n",
       "      <th>4</th>\n",
       "      <td>sdorm</td>\n",
       "      <td>~</td>\n",
       "      <td>fitness</td>\n",
       "      <td>1.000000e+00</td>\n",
       "      <td>-</td>\n",
       "      <td>-</td>\n",
       "      <td>-</td>\n",
       "    </tr>\n",
       "    <tr>\n",
       "      <th>5</th>\n",
       "      <td>pdorm</td>\n",
       "      <td>~</td>\n",
       "      <td>fitness</td>\n",
       "      <td>-6.722398e-01</td>\n",
       "      <td>0.000896</td>\n",
       "      <td>-750.594308</td>\n",
       "      <td>0.0</td>\n",
       "    </tr>\n",
       "    <tr>\n",
       "      <th>6</th>\n",
       "      <td>sdorm</td>\n",
       "      <td>~</td>\n",
       "      <td>1</td>\n",
       "      <td>5.924870e-01</td>\n",
       "      <td>0.716542</td>\n",
       "      <td>0.82687</td>\n",
       "      <td>0.408311</td>\n",
       "    </tr>\n",
       "    <tr>\n",
       "      <th>7</th>\n",
       "      <td>pdorm</td>\n",
       "      <td>~</td>\n",
       "      <td>1</td>\n",
       "      <td>5.944164e-01</td>\n",
       "      <td>1.123259</td>\n",
       "      <td>0.529189</td>\n",
       "      <td>0.596674</td>\n",
       "    </tr>\n",
       "    <tr>\n",
       "      <th>8</th>\n",
       "      <td>snp5b</td>\n",
       "      <td>~</td>\n",
       "      <td>1</td>\n",
       "      <td>-2.258691e-01</td>\n",
       "      <td>0.872215</td>\n",
       "      <td>-0.25896</td>\n",
       "      <td>0.795666</td>\n",
       "    </tr>\n",
       "    <tr>\n",
       "      <th>9</th>\n",
       "      <td>fitness</td>\n",
       "      <td>~~</td>\n",
       "      <td>fitness</td>\n",
       "      <td>1.330085e-02</td>\n",
       "      <td>0.020203</td>\n",
       "      <td>0.658348</td>\n",
       "      <td>0.510315</td>\n",
       "    </tr>\n",
       "    <tr>\n",
       "      <th>10</th>\n",
       "      <td>sdorm</td>\n",
       "      <td>~~</td>\n",
       "      <td>pdorm</td>\n",
       "      <td>1.841399e-01</td>\n",
       "      <td>0.048939</td>\n",
       "      <td>3.762634</td>\n",
       "      <td>0.000168</td>\n",
       "    </tr>\n",
       "    <tr>\n",
       "      <th>11</th>\n",
       "      <td>sdorm</td>\n",
       "      <td>~~</td>\n",
       "      <td>sdorm</td>\n",
       "      <td>1.185751e-18</td>\n",
       "      <td>0.029707</td>\n",
       "      <td>0.0</td>\n",
       "      <td>1.0</td>\n",
       "    </tr>\n",
       "    <tr>\n",
       "      <th>12</th>\n",
       "      <td>pdorm</td>\n",
       "      <td>~~</td>\n",
       "      <td>pdorm</td>\n",
       "      <td>6.172295e-22</td>\n",
       "      <td>0.05062</td>\n",
       "      <td>0.0</td>\n",
       "      <td>1.0</td>\n",
       "    </tr>\n",
       "    <tr>\n",
       "      <th>13</th>\n",
       "      <td>snp5b</td>\n",
       "      <td>~~</td>\n",
       "      <td>snp5b</td>\n",
       "      <td>0.000000e+00</td>\n",
       "      <td>0.035678</td>\n",
       "      <td>0.0</td>\n",
       "      <td>1.0</td>\n",
       "    </tr>\n",
       "    <tr>\n",
       "      <th>14</th>\n",
       "      <td>pdorm</td>\n",
       "      <td>RF</td>\n",
       "      <td>pdorm</td>\n",
       "      <td>1.389359e+00</td>\n",
       "      <td>0.135996</td>\n",
       "      <td>10.216199</td>\n",
       "      <td>0.0</td>\n",
       "    </tr>\n",
       "    <tr>\n",
       "      <th>15</th>\n",
       "      <td>sdorm</td>\n",
       "      <td>RF</td>\n",
       "      <td>sdorm</td>\n",
       "      <td>5.506546e-01</td>\n",
       "      <td>0.0846</td>\n",
       "      <td>6.508909</td>\n",
       "      <td>0.0</td>\n",
       "    </tr>\n",
       "    <tr>\n",
       "      <th>16</th>\n",
       "      <td>snp5b</td>\n",
       "      <td>RF</td>\n",
       "      <td>snp5b</td>\n",
       "      <td>8.413506e-01</td>\n",
       "      <td>0.095822</td>\n",
       "      <td>8.780328</td>\n",
       "      <td>0.0</td>\n",
       "    </tr>\n",
       "  </tbody>\n",
       "</table>\n",
       "</div>"
      ],
      "text/plain": [
       "       lval  op     rval      Estimate  Std. Err     z-value   p-value\n",
       "0     sdorm   ~     bio9 -4.450344e-03  0.003189   -1.395386    0.1629\n",
       "1     sdorm   ~    snp3s -4.778993e-01  0.062625    -7.63118       0.0\n",
       "2     pdorm   ~     bio9 -7.868225e-03  0.004976   -1.581154  0.113843\n",
       "3     snp5b   ~     bio9  3.304421e-02  0.003864    8.551633       0.0\n",
       "4     sdorm   ~  fitness  1.000000e+00         -           -         -\n",
       "5     pdorm   ~  fitness -6.722398e-01  0.000896 -750.594308       0.0\n",
       "6     sdorm   ~        1  5.924870e-01  0.716542     0.82687  0.408311\n",
       "7     pdorm   ~        1  5.944164e-01  1.123259    0.529189  0.596674\n",
       "8     snp5b   ~        1 -2.258691e-01  0.872215    -0.25896  0.795666\n",
       "9   fitness  ~~  fitness  1.330085e-02  0.020203    0.658348  0.510315\n",
       "10    sdorm  ~~    pdorm  1.841399e-01  0.048939    3.762634  0.000168\n",
       "11    sdorm  ~~    sdorm  1.185751e-18  0.029707         0.0       1.0\n",
       "12    pdorm  ~~    pdorm  6.172295e-22   0.05062         0.0       1.0\n",
       "13    snp5b  ~~    snp5b  0.000000e+00  0.035678         0.0       1.0\n",
       "14    pdorm  RF    pdorm  1.389359e+00  0.135996   10.216199       0.0\n",
       "15    sdorm  RF    sdorm  5.506546e-01    0.0846    6.508909       0.0\n",
       "16    snp5b  RF    snp5b  8.413506e-01  0.095822    8.780328       0.0"
      ]
     },
     "execution_count": 156,
     "metadata": {},
     "output_type": "execute_result"
    }
   ],
   "source": [
    "desc='''\n",
    "#measurement model\n",
    "fitness =~ sdorm + pdorm \n",
    "\n",
    "#regressions\n",
    "sdorm, pdorm ~ bio9\n",
    "snp5b ~ bio9\n",
    "sdorm ~ snp3s \n",
    "\n",
    "#residual correlations\n",
    "sdorm ~~ pdorm\n",
    "'''\n",
    "\n",
    "mod = ModelEffects(desc,)\n",
    "mod.fit(df, group ='ID', k=kk,)\n",
    "mod.predict_factors(data).head()\n",
    "mod.inspect()"
   ]
  },
  {
   "cell_type": "code",
   "execution_count": 46,
   "id": "eb330630",
   "metadata": {},
   "outputs": [
    {
     "name": "stderr",
     "output_type": "stream",
     "text": [
      "/var/folders/_n/6f9lbyk959q4h617mnpxbxx40000gn/T/ipykernel_91239/189275379.py:2: SettingWithCopyWarning: \n",
      "A value is trying to be set on a copy of a slice from a DataFrame.\n",
      "Try using .loc[row_indexer,col_indexer] = value instead\n",
      "\n",
      "See the caveats in the documentation: https://pandas.pydata.org/pandas-docs/stable/user_guide/indexing.html#returning-a-view-versus-a-copy\n",
      "  data['group'] = 0\n"
     ]
    }
   ],
   "source": [
    "data = df_sub1\n",
    "data['group'] = 0\n"
   ]
  },
  {
   "cell_type": "code",
   "execution_count": 48,
   "id": "513cd503",
   "metadata": {
    "scrolled": true
   },
   "outputs": [
    {
     "data": {
      "text/html": [
       "<div>\n",
       "<style scoped>\n",
       "    .dataframe tbody tr th:only-of-type {\n",
       "        vertical-align: middle;\n",
       "    }\n",
       "\n",
       "    .dataframe tbody tr th {\n",
       "        vertical-align: top;\n",
       "    }\n",
       "\n",
       "    .dataframe thead th {\n",
       "        text-align: right;\n",
       "    }\n",
       "</style>\n",
       "<table border=\"1\" class=\"dataframe\">\n",
       "  <thead>\n",
       "    <tr style=\"text-align: right;\">\n",
       "      <th></th>\n",
       "      <th>ID</th>\n",
       "      <th>sdorm</th>\n",
       "      <th>pdorm</th>\n",
       "      <th>bio9</th>\n",
       "      <th>snp5b</th>\n",
       "      <th>snp3s</th>\n",
       "      <th>group</th>\n",
       "    </tr>\n",
       "  </thead>\n",
       "  <tbody>\n",
       "    <tr>\n",
       "      <th>count</th>\n",
       "      <td>245.000000</td>\n",
       "      <td>245.000000</td>\n",
       "      <td>245.000000</td>\n",
       "      <td>245.000000</td>\n",
       "      <td>245.000000</td>\n",
       "      <td>245.000000</td>\n",
       "      <td>245.0</td>\n",
       "    </tr>\n",
       "    <tr>\n",
       "      <th>mean</th>\n",
       "      <td>19336.987755</td>\n",
       "      <td>0.123128</td>\n",
       "      <td>0.583390</td>\n",
       "      <td>7.942449</td>\n",
       "      <td>0.273469</td>\n",
       "      <td>0.946939</td>\n",
       "      <td>0.0</td>\n",
       "    </tr>\n",
       "    <tr>\n",
       "      <th>std</th>\n",
       "      <td>33421.077193</td>\n",
       "      <td>0.256957</td>\n",
       "      <td>0.364022</td>\n",
       "      <td>7.995213</td>\n",
       "      <td>0.446652</td>\n",
       "      <td>0.224614</td>\n",
       "      <td>0.0</td>\n",
       "    </tr>\n",
       "    <tr>\n",
       "      <th>min</th>\n",
       "      <td>139.000000</td>\n",
       "      <td>0.000000</td>\n",
       "      <td>0.000000</td>\n",
       "      <td>-4.300000</td>\n",
       "      <td>0.000000</td>\n",
       "      <td>0.000000</td>\n",
       "      <td>0.0</td>\n",
       "    </tr>\n",
       "    <tr>\n",
       "      <th>25%</th>\n",
       "      <td>6203.000000</td>\n",
       "      <td>0.000000</td>\n",
       "      <td>0.188679</td>\n",
       "      <td>2.000000</td>\n",
       "      <td>0.000000</td>\n",
       "      <td>1.000000</td>\n",
       "      <td>0.0</td>\n",
       "    </tr>\n",
       "    <tr>\n",
       "      <th>50%</th>\n",
       "      <td>8426.000000</td>\n",
       "      <td>0.000000</td>\n",
       "      <td>0.731707</td>\n",
       "      <td>2.700000</td>\n",
       "      <td>0.000000</td>\n",
       "      <td>1.000000</td>\n",
       "      <td>0.0</td>\n",
       "    </tr>\n",
       "    <tr>\n",
       "      <th>75%</th>\n",
       "      <td>9822.000000</td>\n",
       "      <td>0.076923</td>\n",
       "      <td>0.911765</td>\n",
       "      <td>16.000000</td>\n",
       "      <td>1.000000</td>\n",
       "      <td>1.000000</td>\n",
       "      <td>0.0</td>\n",
       "    </tr>\n",
       "    <tr>\n",
       "      <th>max</th>\n",
       "      <td>116026.000000</td>\n",
       "      <td>0.984375</td>\n",
       "      <td>1.000000</td>\n",
       "      <td>25.400000</td>\n",
       "      <td>1.000000</td>\n",
       "      <td>1.000000</td>\n",
       "      <td>0.0</td>\n",
       "    </tr>\n",
       "  </tbody>\n",
       "</table>\n",
       "</div>"
      ],
      "text/plain": [
       "                  ID       sdorm       pdorm        bio9       snp5b  \\\n",
       "count     245.000000  245.000000  245.000000  245.000000  245.000000   \n",
       "mean    19336.987755    0.123128    0.583390    7.942449    0.273469   \n",
       "std     33421.077193    0.256957    0.364022    7.995213    0.446652   \n",
       "min       139.000000    0.000000    0.000000   -4.300000    0.000000   \n",
       "25%      6203.000000    0.000000    0.188679    2.000000    0.000000   \n",
       "50%      8426.000000    0.000000    0.731707    2.700000    0.000000   \n",
       "75%      9822.000000    0.076923    0.911765   16.000000    1.000000   \n",
       "max    116026.000000    0.984375    1.000000   25.400000    1.000000   \n",
       "\n",
       "            snp3s  group  \n",
       "count  245.000000  245.0  \n",
       "mean     0.946939    0.0  \n",
       "std      0.224614    0.0  \n",
       "min      0.000000    0.0  \n",
       "25%      1.000000    0.0  \n",
       "50%      1.000000    0.0  \n",
       "75%      1.000000    0.0  \n",
       "max      1.000000    0.0  "
      ]
     },
     "execution_count": 48,
     "metadata": {},
     "output_type": "execute_result"
    }
   ],
   "source": [
    "df_sub1.describe()"
   ]
  },
  {
   "cell_type": "code",
   "execution_count": 50,
   "id": "f479e2b5",
   "metadata": {},
   "outputs": [
    {
     "data": {
      "text/plain": [
       "sweden            95\n",
       "spain             76\n",
       "central_europe    38\n",
       "france            26\n",
       "western_europe     9\n",
       "portugal           1\n",
       "Name: Admixture, dtype: int64"
      ]
     },
     "execution_count": 50,
     "metadata": {},
     "output_type": "execute_result"
    }
   ],
   "source": [
    "df_sub1['Admixture'].value_counts()"
   ]
  },
  {
   "cell_type": "code",
   "execution_count": 58,
   "id": "2dcff4b4",
   "metadata": {},
   "outputs": [
    {
     "name": "stderr",
     "output_type": "stream",
     "text": [
      "/Users/nhutran/opt/anaconda3/lib/python3.9/site-packages/pandas/core/indexing.py:1817: SettingWithCopyWarning: \n",
      "A value is trying to be set on a copy of a slice from a DataFrame.\n",
      "Try using .loc[row_indexer,col_indexer] = value instead\n",
      "\n",
      "See the caveats in the documentation: https://pandas.pydata.org/pandas-docs/stable/user_guide/indexing.html#returning-a-view-versus-a-copy\n",
      "  self._setitem_single_column(loc, value, pi)\n"
     ]
    }
   ],
   "source": [
    "df_sub1.loc[df_sub1['Admixture'] == 'sweden', ['group']] = 0\n",
    "df_sub1.loc[df_sub1['Admixture'] == 'spain', ['group']] = 1\n",
    "df_sub1.loc[df_sub1['Admixture'] == 'central_europe', ['group']] = 2\n",
    "df_sub1.loc[df_sub1['Admixture'] == 'france', ['group']] = 3\n",
    "df_sub1.loc[df_sub1['Admixture'] == 'western_europe', ['group']] = 4\n",
    "df_sub1.loc[df_sub1['Admixture'] == 'portugal', ['group']] = 5"
   ]
  },
  {
   "cell_type": "code",
   "execution_count": 59,
   "id": "f2b91cda",
   "metadata": {},
   "outputs": [
    {
     "data": {
      "text/html": [
       "<div>\n",
       "<style scoped>\n",
       "    .dataframe tbody tr th:only-of-type {\n",
       "        vertical-align: middle;\n",
       "    }\n",
       "\n",
       "    .dataframe tbody tr th {\n",
       "        vertical-align: top;\n",
       "    }\n",
       "\n",
       "    .dataframe thead th {\n",
       "        text-align: right;\n",
       "    }\n",
       "</style>\n",
       "<table border=\"1\" class=\"dataframe\">\n",
       "  <thead>\n",
       "    <tr style=\"text-align: right;\">\n",
       "      <th></th>\n",
       "      <th>ID</th>\n",
       "      <th>Admixture</th>\n",
       "      <th>sdorm</th>\n",
       "      <th>pdorm</th>\n",
       "      <th>bio9</th>\n",
       "      <th>snp5b</th>\n",
       "      <th>snp3s</th>\n",
       "      <th>group</th>\n",
       "    </tr>\n",
       "  </thead>\n",
       "  <tbody>\n",
       "    <tr>\n",
       "      <th>0</th>\n",
       "      <td>10005</td>\n",
       "      <td>central_europe</td>\n",
       "      <td>0.000000</td>\n",
       "      <td>0.166667</td>\n",
       "      <td>1.3</td>\n",
       "      <td>0</td>\n",
       "      <td>1</td>\n",
       "      <td>2</td>\n",
       "    </tr>\n",
       "    <tr>\n",
       "      <th>1</th>\n",
       "      <td>10017</td>\n",
       "      <td>central_europe</td>\n",
       "      <td>0.000000</td>\n",
       "      <td>0.868421</td>\n",
       "      <td>2.5</td>\n",
       "      <td>0</td>\n",
       "      <td>1</td>\n",
       "      <td>2</td>\n",
       "    </tr>\n",
       "    <tr>\n",
       "      <th>2</th>\n",
       "      <td>1002</td>\n",
       "      <td>sweden</td>\n",
       "      <td>0.000000</td>\n",
       "      <td>0.843373</td>\n",
       "      <td>2.4</td>\n",
       "      <td>0</td>\n",
       "      <td>1</td>\n",
       "      <td>0</td>\n",
       "    </tr>\n",
       "    <tr>\n",
       "      <th>3</th>\n",
       "      <td>1061</td>\n",
       "      <td>sweden</td>\n",
       "      <td>0.023256</td>\n",
       "      <td>0.865854</td>\n",
       "      <td>1.9</td>\n",
       "      <td>0</td>\n",
       "      <td>1</td>\n",
       "      <td>0</td>\n",
       "    </tr>\n",
       "    <tr>\n",
       "      <th>4</th>\n",
       "      <td>1062</td>\n",
       "      <td>sweden</td>\n",
       "      <td>0.152778</td>\n",
       "      <td>0.463415</td>\n",
       "      <td>1.9</td>\n",
       "      <td>0</td>\n",
       "      <td>1</td>\n",
       "      <td>0</td>\n",
       "    </tr>\n",
       "  </tbody>\n",
       "</table>\n",
       "</div>"
      ],
      "text/plain": [
       "      ID       Admixture     sdorm     pdorm  bio9  snp5b  snp3s group\n",
       "0  10005  central_europe  0.000000  0.166667   1.3      0      1     2\n",
       "1  10017  central_europe  0.000000  0.868421   2.5      0      1     2\n",
       "2   1002          sweden  0.000000  0.843373   2.4      0      1     0\n",
       "3   1061          sweden  0.023256  0.865854   1.9      0      1     0\n",
       "4   1062          sweden  0.152778  0.463415   1.9      0      1     0"
      ]
     },
     "execution_count": 59,
     "metadata": {},
     "output_type": "execute_result"
    }
   ],
   "source": [
    "df_sub1.head()"
   ]
  },
  {
   "cell_type": "code",
   "execution_count": 65,
   "id": "3e95e3a6",
   "metadata": {},
   "outputs": [
    {
     "name": "stdout",
     "output_type": "stream",
     "text": [
      "       DoF  DoF Baseline     chi2  chi2 p-value  chi2 Baseline       CFI  \\\n",
      "Value   -9             0  3.79273           NaN       7.139385 -0.791853   \n",
      "\n",
      "           GFI  AGFI      NFI  TLI  RMSEA        AIC        BIC    LogLik  \n",
      "Value  0.46876   1.0  0.46876  NaN    NaN  21.880228  60.957781  4.059886  \n"
     ]
    },
    {
     "name": "stderr",
     "output_type": "stream",
     "text": [
      "/Users/nhutran/opt/anaconda3/lib/python3.9/site-packages/semopy/stats.py:386: RuntimeWarning: invalid value encountered in sqrt\n",
      "  return np.sqrt((chi2 / dof - 1) / (model.n_samples - 1))\n"
     ]
    }
   ],
   "source": [
    "from semopy.examples import multivariate_regression\n",
    "from semopy import ModelMeans\n",
    "\n",
    "desc = multivariate_regression.get_model()\n",
    "data = multivariate_regression.get_data()\n",
    "data['group'] = 0\n",
    "np.random.seed(10)\n",
    "U =  np.array([np.random.normal(scale=1, size=1).flatten() for _ in range(3)])\n",
    "data.iloc[0:25, 3] +=  U[0].flatten()\n",
    "data.iloc[0:25, -1] = 0\n",
    "data.iloc[25:50, 3] += U[1].flatten()\n",
    "data.iloc[25:50, -1] = 1\n",
    "data.iloc[50:75, 3] +=  U[2].flatten()\n",
    "data.iloc[50:75, -1] = 2\n",
    "\n",
    "mod = ModelMeans(desc)\n",
    "mod.fit(data, groups=['group'])\n",
    "print(semopy.calc_stats(mod))"
   ]
  },
  {
   "cell_type": "code",
   "execution_count": null,
   "id": "7473307f",
   "metadata": {},
   "outputs": [],
   "source": []
  },
  {
   "cell_type": "code",
   "execution_count": 29,
   "id": "3b1f7a09",
   "metadata": {},
   "outputs": [
    {
     "name": "stderr",
     "output_type": "stream",
     "text": [
      "WARNING:root:Fisher Information Matrix is not PD.Moore-Penrose inverse will be used instead of Cholesky decomposition. See 10.1109/TSP.2012.2208105.\n",
      "WARNING:root:Fisher Information Matrix is not PD.Moore-Penrose inverse will be used instead of Cholesky decomposition. See 10.1109/TSP.2012.2208105.\n",
      "WARNING:root:Fisher Information Matrix is not PD.Moore-Penrose inverse will be used instead of Cholesky decomposition. See 10.1109/TSP.2012.2208105.\n",
      "WARNING:root:Fisher Information Matrix is not PD.Moore-Penrose inverse will be used instead of Cholesky decomposition. See 10.1109/TSP.2012.2208105.\n",
      "WARNING:root:Fisher Information Matrix is not PD.Moore-Penrose inverse will be used instead of Cholesky decomposition. See 10.1109/TSP.2012.2208105.\n",
      "WARNING:root:Fisher Information Matrix is not PD.Moore-Penrose inverse will be used instead of Cholesky decomposition. See 10.1109/TSP.2012.2208105.\n"
     ]
    }
   ],
   "source": [
    "desc='''\n",
    "#measurement model\n",
    "adaptation =~ sdorm + pdorm \n",
    "\n",
    "#regressions\n",
    "adaptation ~ bio9\n",
    "sdorm, pdorm ~ bio9\n",
    "snp5b ~ bio9\n",
    "sdorm ~ snp3s + snp5b\n",
    "pdorm ~ snp5b \n",
    "\n",
    "#residual correlations\n",
    "sdorm ~~ pdorm\n",
    "'''\n",
    "\n",
    "data=df_sub1 \n",
    "k = kin1\n",
    "m = Model(desc,)\n",
    "m.fit(data)\n",
    "m.predict_factors(data).head()\n",
    "m.inspect()\n",
    "semopy.report(m, \"semopy.Model4.1\")"
   ]
  },
  {
   "cell_type": "code",
   "execution_count": 25,
   "id": "6e92083c",
   "metadata": {},
   "outputs": [],
   "source": [
    "desc='''\n",
    "#measurement model\n",
    "A =~ sdorm + pdorm\n",
    "\n",
    "#regressions\n",
    "A ~ bio9\n",
    "sdorm, pdorm ~ bio9\n",
    "snp5b ~ bio9\n",
    "sdorm ~ snp3s + snp5b\n",
    "pdorm ~ snp5b \n",
    "\n",
    "\n",
    "#residual correlations\n",
    "sdorm ~~ pdorm\n",
    "'''\n",
    "\n",
    "data=df_sub1 \n",
    "m = Model(desc,)\n",
    "m.fit(data)\n",
    "m.predict_factors(data).head()\n",
    "m.inspect()\n",
    "semopy.report(m, \"semopy.Model5.2\")"
   ]
  },
  {
   "cell_type": "code",
   "execution_count": 15,
   "id": "74ec4501",
   "metadata": {},
   "outputs": [
    {
     "data": {
      "text/html": [
       "<div>\n",
       "<style scoped>\n",
       "    .dataframe tbody tr th:only-of-type {\n",
       "        vertical-align: middle;\n",
       "    }\n",
       "\n",
       "    .dataframe tbody tr th {\n",
       "        vertical-align: top;\n",
       "    }\n",
       "\n",
       "    .dataframe thead th {\n",
       "        text-align: right;\n",
       "    }\n",
       "</style>\n",
       "<table border=\"1\" class=\"dataframe\">\n",
       "  <thead>\n",
       "    <tr style=\"text-align: right;\">\n",
       "      <th></th>\n",
       "      <th>ID</th>\n",
       "      <th>sdorm</th>\n",
       "      <th>pdorm</th>\n",
       "      <th>bio9</th>\n",
       "      <th>FT16</th>\n",
       "      <th>FT10</th>\n",
       "      <th>snp5b</th>\n",
       "      <th>snp3s</th>\n",
       "    </tr>\n",
       "  </thead>\n",
       "  <tbody>\n",
       "    <tr>\n",
       "      <th>count</th>\n",
       "      <td>208.000000</td>\n",
       "      <td>208.000000</td>\n",
       "      <td>208.000000</td>\n",
       "      <td>208.000000</td>\n",
       "      <td>208.000000</td>\n",
       "      <td>208.000000</td>\n",
       "      <td>208.000000</td>\n",
       "      <td>208.000000</td>\n",
       "    </tr>\n",
       "    <tr>\n",
       "      <th>mean</th>\n",
       "      <td>7871.653846</td>\n",
       "      <td>0.140132</td>\n",
       "      <td>0.593014</td>\n",
       "      <td>0.670863</td>\n",
       "      <td>0.952508</td>\n",
       "      <td>0.980828</td>\n",
       "      <td>0.274038</td>\n",
       "      <td>0.937500</td>\n",
       "    </tr>\n",
       "    <tr>\n",
       "      <th>std</th>\n",
       "      <td>2014.378018</td>\n",
       "      <td>0.272781</td>\n",
       "      <td>0.364934</td>\n",
       "      <td>0.740114</td>\n",
       "      <td>0.297229</td>\n",
       "      <td>0.182560</td>\n",
       "      <td>0.447105</td>\n",
       "      <td>0.242645</td>\n",
       "    </tr>\n",
       "    <tr>\n",
       "      <th>min</th>\n",
       "      <td>139.000000</td>\n",
       "      <td>0.000000</td>\n",
       "      <td>0.000000</td>\n",
       "      <td>-0.399561</td>\n",
       "      <td>0.391730</td>\n",
       "      <td>0.589797</td>\n",
       "      <td>0.000000</td>\n",
       "      <td>0.000000</td>\n",
       "    </tr>\n",
       "    <tr>\n",
       "      <th>25%</th>\n",
       "      <td>6191.750000</td>\n",
       "      <td>0.000000</td>\n",
       "      <td>0.188078</td>\n",
       "      <td>0.176550</td>\n",
       "      <td>0.700065</td>\n",
       "      <td>0.840954</td>\n",
       "      <td>0.000000</td>\n",
       "      <td>1.000000</td>\n",
       "    </tr>\n",
       "    <tr>\n",
       "      <th>50%</th>\n",
       "      <td>8248.000000</td>\n",
       "      <td>0.000000</td>\n",
       "      <td>0.760282</td>\n",
       "      <td>0.232303</td>\n",
       "      <td>0.929340</td>\n",
       "      <td>0.986287</td>\n",
       "      <td>0.000000</td>\n",
       "      <td>1.000000</td>\n",
       "    </tr>\n",
       "    <tr>\n",
       "      <th>75%</th>\n",
       "      <td>9590.000000</td>\n",
       "      <td>0.115476</td>\n",
       "      <td>0.915487</td>\n",
       "      <td>1.461184</td>\n",
       "      <td>1.162950</td>\n",
       "      <td>1.128798</td>\n",
       "      <td>1.000000</td>\n",
       "      <td>1.000000</td>\n",
       "    </tr>\n",
       "    <tr>\n",
       "      <th>max</th>\n",
       "      <td>10017.000000</td>\n",
       "      <td>0.984375</td>\n",
       "      <td>1.000000</td>\n",
       "      <td>2.360195</td>\n",
       "      <td>1.689337</td>\n",
       "      <td>1.402531</td>\n",
       "      <td>1.000000</td>\n",
       "      <td>1.000000</td>\n",
       "    </tr>\n",
       "  </tbody>\n",
       "</table>\n",
       "</div>"
      ],
      "text/plain": [
       "                 ID       sdorm       pdorm        bio9        FT16  \\\n",
       "count    208.000000  208.000000  208.000000  208.000000  208.000000   \n",
       "mean    7871.653846    0.140132    0.593014    0.670863    0.952508   \n",
       "std     2014.378018    0.272781    0.364934    0.740114    0.297229   \n",
       "min      139.000000    0.000000    0.000000   -0.399561    0.391730   \n",
       "25%     6191.750000    0.000000    0.188078    0.176550    0.700065   \n",
       "50%     8248.000000    0.000000    0.760282    0.232303    0.929340   \n",
       "75%     9590.000000    0.115476    0.915487    1.461184    1.162950   \n",
       "max    10017.000000    0.984375    1.000000    2.360195    1.689337   \n",
       "\n",
       "             FT10       snp5b       snp3s  \n",
       "count  208.000000  208.000000  208.000000  \n",
       "mean     0.980828    0.274038    0.937500  \n",
       "std      0.182560    0.447105    0.242645  \n",
       "min      0.589797    0.000000    0.000000  \n",
       "25%      0.840954    0.000000    1.000000  \n",
       "50%      0.986287    0.000000    1.000000  \n",
       "75%      1.128798    1.000000    1.000000  \n",
       "max      1.402531    1.000000    1.000000  "
      ]
     },
     "execution_count": 15,
     "metadata": {},
     "output_type": "execute_result"
    }
   ],
   "source": [
    "df_sub1.describe()"
   ]
  },
  {
   "cell_type": "code",
   "execution_count": null,
   "id": "75dbafb0",
   "metadata": {},
   "outputs": [],
   "source": []
  },
  {
   "cell_type": "code",
   "execution_count": 35,
   "id": "29889c4e",
   "metadata": {
    "scrolled": true
   },
   "outputs": [
    {
     "name": "stderr",
     "output_type": "stream",
     "text": [
      "WARNING:root:Fisher Information Matrix is not PD.Moore-Penrose inverse will be used instead of Cholesky decomposition. See 10.1109/TSP.2012.2208105.\n",
      "WARNING:root:Fisher Information Matrix is not PD.Moore-Penrose inverse will be used instead of Cholesky decomposition. See 10.1109/TSP.2012.2208105.\n",
      "WARNING:root:Fisher Information Matrix is not PD.Moore-Penrose inverse will be used instead of Cholesky decomposition. See 10.1109/TSP.2012.2208105.\n",
      "WARNING:root:Fisher Information Matrix is not PD.Moore-Penrose inverse will be used instead of Cholesky decomposition. See 10.1109/TSP.2012.2208105.\n",
      "WARNING:root:Fisher Information Matrix is not PD.Moore-Penrose inverse will be used instead of Cholesky decomposition. See 10.1109/TSP.2012.2208105.\n",
      "WARNING:root:Fisher Information Matrix is not PD.Moore-Penrose inverse will be used instead of Cholesky decomposition. See 10.1109/TSP.2012.2208105.\n"
     ]
    }
   ],
   "source": [
    "desc='''\n",
    "#measurement model\n",
    "fitness =~ sdorm + pdorm \n",
    "\n",
    "#regressions\n",
    "sdorm, pdorm ~ bio9\n",
    "snp5b ~ bio9\n",
    "sdorm ~ snp3s + snp5b\n",
    "pdorm ~ snp5b\n",
    "\n",
    "#residual correlations\n",
    "sdorm ~~ pdorm\n",
    "'''\n",
    "\n",
    "data=df_sub1 \n",
    "m = Model(desc,)\n",
    "m.fit(data)\n",
    "m.predict_factors(data).head()\n",
    "m.inspect()\n",
    "report(m, \"semopy.Model3\")"
   ]
  },
  {
   "cell_type": "code",
   "execution_count": null,
   "id": "ddfd0c03",
   "metadata": {},
   "outputs": [],
   "source": []
  },
  {
   "cell_type": "code",
   "execution_count": 35,
   "id": "66fd5e5f",
   "metadata": {
    "scrolled": true
   },
   "outputs": [
    {
     "name": "stderr",
     "output_type": "stream",
     "text": [
      "WARNING:root:Fisher Information Matrix is not PD.Moore-Penrose inverse will be used instead of Cholesky decomposition. See 10.1109/TSP.2012.2208105.\n",
      "WARNING:root:Fisher Information Matrix is not PD.Moore-Penrose inverse will be used instead of Cholesky decomposition. See 10.1109/TSP.2012.2208105.\n",
      "WARNING:root:Fisher Information Matrix is not PD.Moore-Penrose inverse will be used instead of Cholesky decomposition. See 10.1109/TSP.2012.2208105.\n",
      "WARNING:root:Fisher Information Matrix is not PD.Moore-Penrose inverse will be used instead of Cholesky decomposition. See 10.1109/TSP.2012.2208105.\n",
      "WARNING:root:Fisher Information Matrix is not PD.Moore-Penrose inverse will be used instead of Cholesky decomposition. See 10.1109/TSP.2012.2208105.\n",
      "WARNING:root:Fisher Information Matrix is not PD.Moore-Penrose inverse will be used instead of Cholesky decomposition. See 10.1109/TSP.2012.2208105.\n"
     ]
    }
   ],
   "source": [
    "desc='''\n",
    "#measurement model\n",
    "fitness =~ pdorm + sdorm \n",
    "\n",
    "#regressions\n",
    "sdorm, pdorm ~ bio9\n",
    "snp5b ~ bio9\n",
    "sdorm ~ snp3s + snp5b\n",
    "pdorm ~ snp5b\n",
    "\n",
    "#residual correlations\n",
    "sdorm ~~ pdorm\n",
    "'''\n",
    "\n",
    "data=df_sub1 \n",
    "k = kin1\n",
    "m = Model(desc,)\n",
    "m.fit(data)\n",
    "m.predict_factors(data).head()\n",
    "m.inspect()\n",
    "report(m, \"semopy.Model3.1\")"
   ]
  },
  {
   "cell_type": "code",
   "execution_count": 37,
   "id": "cb837672",
   "metadata": {},
   "outputs": [
    {
     "name": "stderr",
     "output_type": "stream",
     "text": [
      "WARNING:root:Fisher Information Matrix is not PD.Moore-Penrose inverse will be used instead of Cholesky decomposition. See 10.1109/TSP.2012.2208105.\n",
      "WARNING:root:Fisher Information Matrix is not PD.Moore-Penrose inverse will be used instead of Cholesky decomposition. See 10.1109/TSP.2012.2208105.\n",
      "WARNING:root:Fisher Information Matrix is not PD.Moore-Penrose inverse will be used instead of Cholesky decomposition. See 10.1109/TSP.2012.2208105.\n",
      "WARNING:root:Fisher Information Matrix is not PD.Moore-Penrose inverse will be used instead of Cholesky decomposition. See 10.1109/TSP.2012.2208105.\n",
      "WARNING:root:Fisher Information Matrix is not PD.Moore-Penrose inverse will be used instead of Cholesky decomposition. See 10.1109/TSP.2012.2208105.\n",
      "WARNING:root:Fisher Information Matrix is not PD.Moore-Penrose inverse will be used instead of Cholesky decomposition. See 10.1109/TSP.2012.2208105.\n"
     ]
    }
   ],
   "source": [
    "desc='''\n",
    "#measurement model\n",
    "A =~ pdorm + sdorm \n",
    "\n",
    "#regressions\n",
    "sdorm, pdorm, A ~ bio9\n",
    "snp5b ~ bio9\n",
    "sdorm ~ snp3s + snp5b\n",
    "pdorm ~ snp5b\n",
    "\n",
    "#residual correlations\n",
    "sdorm ~~ pdorm\n",
    "'''\n",
    "\n",
    "data=df_sub1 \n",
    "m = Model(desc,)\n",
    "m.fit(data)\n",
    "m.predict_factors(data).head()\n",
    "m.inspect()\n",
    "semopy.report(m, \"semopy.Model3.4\")"
   ]
  },
  {
   "cell_type": "code",
   "execution_count": null,
   "id": "6a66b2ba",
   "metadata": {},
   "outputs": [],
   "source": []
  },
  {
   "cell_type": "code",
   "execution_count": null,
   "id": "e27877d2",
   "metadata": {},
   "outputs": [],
   "source": []
  }
 ],
 "metadata": {
  "kernelspec": {
   "display_name": "Python 3 (ipykernel)",
   "language": "python",
   "name": "python3"
  },
  "language_info": {
   "codemirror_mode": {
    "name": "ipython",
    "version": 3
   },
   "file_extension": ".py",
   "mimetype": "text/x-python",
   "name": "python",
   "nbconvert_exporter": "python",
   "pygments_lexer": "ipython3",
   "version": "3.9.7"
  }
 },
 "nbformat": 4,
 "nbformat_minor": 5
}
