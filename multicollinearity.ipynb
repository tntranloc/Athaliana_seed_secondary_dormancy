{
 "cells": [
  {
   "cell_type": "code",
   "execution_count": 1,
   "id": "92544a97",
   "metadata": {},
   "outputs": [],
   "source": [
    "import os\n",
    "import pandas as pd\n",
    "import matplotlib as mpl\n",
    "import seaborn as sns"
   ]
  },
  {
   "cell_type": "code",
   "execution_count": 3,
   "id": "970b0e16",
   "metadata": {},
   "outputs": [],
   "source": [
    "import patsy\n",
    "import statsmodels"
   ]
  },
  {
   "cell_type": "code",
   "execution_count": 4,
   "id": "b305afae",
   "metadata": {},
   "outputs": [],
   "source": [
    "from patsy import dmatrices\n",
    "from statsmodels.stats.outliers_influence import variance_inflation_factor"
   ]
  },
  {
   "cell_type": "code",
   "execution_count": 17,
   "id": "d8ab5be1",
   "metadata": {},
   "outputs": [],
   "source": [
    "import numpy as np"
   ]
  },
  {
   "cell_type": "code",
   "execution_count": 26,
   "id": "e20467b8",
   "metadata": {},
   "outputs": [],
   "source": [
    "os.chdir('/Users/nhutran/Documents/PhD/dormancy_redo')"
   ]
  },
  {
   "cell_type": "code",
   "execution_count": 5,
   "id": "5e208a4d",
   "metadata": {},
   "outputs": [],
   "source": [
    "df = pd.read_csv(\"/Users/nhutran/Documents/PhD/dormancy_redo/assays/assay_sdorm02_working_bio.csv\")"
   ]
  },
  {
   "cell_type": "code",
   "execution_count": 21,
   "id": "e7e9760d",
   "metadata": {},
   "outputs": [
    {
     "name": "stdout",
     "output_type": "stream",
     "text": [
      "    variable         VIF\n",
      "0  Intercept  154.565250\n",
      "1       bio1   13.345847\n",
      "2       bio3    3.369688\n",
      "3       bio6   67.001711\n",
      "4       bio9    3.921502\n",
      "5      bio11  143.401871\n"
     ]
    }
   ],
   "source": [
    "\n",
    "#find design matrix for regression model using 'rating' as response variable \n",
    "y, X = dmatrices('rate ~ bio1+bio3+bio6+bio9+bio11', data=df, return_type='dataframe')\n",
    "\n",
    "#create DataFrame to hold VIF values\n",
    "vif_df = pd.DataFrame()\n",
    "vif_df['variable'] = X.columns \n",
    "\n",
    "#calculate VIF for each predictor variable \n",
    "vif_df['VIF'] = [variance_inflation_factor(X.values, i) for i in range(X.shape[1])]\n",
    "\n",
    "#view VIF for each predictor variable \n",
    "print(vif_df)"
   ]
  },
  {
   "cell_type": "code",
   "execution_count": 38,
   "id": "b7dc13ef",
   "metadata": {},
   "outputs": [
    {
     "data": {
      "image/png": "[encoded data removed]",
      "text/plain": [
       "<Figure size 432x288 with 2 Axes>"
      ]
     },
     "metadata": {
      "needs_background": "light"
     },
     "output_type": "display_data"
    }
   ],
   "source": [
    "#visualising\n",
    "#simple and fast option\n",
    "\n",
    "# load the data\n",
    "df1 = df[['bio12','bio18','bio9']]\n",
    "# calculate the correlation matrix\n",
    "corr = df1.corr()\n",
    "\n",
    "#change lables if needed\n",
    "#labels = {\n",
    "#'bio9':'temperature of driest quarter',  \n",
    "#'bio1':'annual temperature',\n",
    "#'bio11':'temperature of coldest quarter',\n",
    "#'bio6':'temperature of coldest month',\n",
    "#'bio3':'isothermality'}\n",
    "\n",
    "#corr = corr.rename(labels)\n",
    "\n",
    "#make heatmap\n",
    "myfig= sns.heatmap(corr, cmap=\"Blues\", annot=True)\n",
    "figure = myfig.get_figure()    \n",
    "figure.savefig('multicorr_bio91812.png', dpi=800)"
   ]
  },
  {
   "cell_type": "code",
   "execution_count": 24,
   "id": "de5e5370",
   "metadata": {
    "scrolled": true
   },
   "outputs": [
    {
     "name": "stderr",
     "output_type": "stream",
     "text": [
      "/var/folders/_n/6f9lbyk959q4h617mnpxbxx40000gn/T/ipykernel_84123/1355055706.py:14: DeprecationWarning: `np.bool` is a deprecated alias for the builtin `bool`. To silence this warning, use `bool` by itself. Doing this will not modify any behavior and is safe. If you specifically wanted the numpy scalar type, use `np.bool_` here.\n",
      "Deprecated in NumPy 1.20; for more details and guidance: https://numpy.org/devdocs/release/1.20.0-notes.html#deprecations\n",
      "  mask = np.zeros_like(corr, dtype=np.bool)\n"
     ]
    },
    {
     "data": {
      "image/png": "[encoded data removed]",
      "text/plain": [
       "<Figure size 432x288 with 2 Axes>"
      ]
     },
     "metadata": {
      "needs_background": "light"
     },
     "output_type": "display_data"
    }
   ],
   "source": [
    "#make it fancy? \n",
    "#ver1\n",
    "# labels need changing?\n",
    "labels = {\n",
    "'bio9':'temperature of driest quarter',  \n",
    "'bio1':'annual temperature',\n",
    "'bio11':'temperature of coldest quarter',\n",
    "'bio6':'temperature of coldest month',\n",
    "'bio3':'isothermality'}\n",
    "\n",
    "corr = corr.rename(labels)\n",
    "\n",
    "# remove the top right triange - duplicate information\n",
    "mask = np.zeros_like(corr, dtype=np.bool)\n",
    "mask[np.triu_indices_from(mask)] = True\n",
    "\n",
    "# Colors\n",
    "cmap = sns.diverging_palette(500, 10, as_cmap=True)\n",
    "\n",
    "# uncomment this if you want only the lower triangle matrix \n",
    "# ans=sns.heatmap(corr, mask=mask,  linewidths=1, cmap=cmap, center=0)\n",
    "\n",
    "ans=sns.heatmap(corr,  linewidths=1, cmap=cmap, center=0)\n",
    "\n",
    "#save image \n",
    "#figure = ans.get_figure()    \n",
    "#figure.savefig('correlations.png', dpi=800)"
   ]
  },
  {
   "cell_type": "code",
   "execution_count": 23,
   "id": "5bc8a167",
   "metadata": {},
   "outputs": [
    {
     "name": "stderr",
     "output_type": "stream",
     "text": [
      "/var/folders/_n/6f9lbyk959q4h617mnpxbxx40000gn/T/ipykernel_84123/3442623433.py:16: FutureWarning: this method is deprecated in favour of `Styler.format(precision=..)`\n",
      "  corr.style.background_gradient(cmap, axis=1)\\\n"
     ]
    },
    {
     "data": {
      "text/html": [
       "<style type=\"text/css\">\n",
       "#T_c06ea_ th {\n",
       "  font-size: 7pt;\n",
       "}\n",
       "#T_c06ea_ td {\n",
       "  padding: 0em 0em;\n",
       "}\n",
       "#T_c06ea_ th:hover {\n",
       "  font-size: 12pt;\n",
       "}\n",
       "#T_c06ea_ tr:hover td:hover {\n",
       "  max-width: 200px;\n",
       "  font-size: 12pt;\n",
       "}\n",
       "#T_c06ea_row0_col0, #T_c06ea_row1_col1, #T_c06ea_row2_col2, #T_c06ea_row3_col3, #T_c06ea_row4_col4 {\n",
       "  background-color: #4479bb;\n",
       "  color: #f1f1f1;\n",
       "  max-width: 80px;\n",
       "  font-size: 10pt;\n",
       "}\n",
       "#T_c06ea_row0_col1, #T_c06ea_row1_col2, #T_c06ea_row2_col1, #T_c06ea_row3_col2, #T_c06ea_row4_col1 {\n",
       "  background-color: #d73c5b;\n",
       "  color: #f1f1f1;\n",
       "  max-width: 80px;\n",
       "  font-size: 10pt;\n",
       "}\n",
       "#T_c06ea_row0_col2 {\n",
       "  background-color: #cfdae7;\n",
       "  color: #000000;\n",
       "  max-width: 80px;\n",
       "  font-size: 10pt;\n",
       "}\n",
       "#T_c06ea_row0_col3 {\n",
       "  background-color: #edcdd3;\n",
       "  color: #000000;\n",
       "  max-width: 80px;\n",
       "  font-size: 10pt;\n",
       "}\n",
       "#T_c06ea_row0_col4 {\n",
       "  background-color: #8aaad1;\n",
       "  color: #f1f1f1;\n",
       "  max-width: 80px;\n",
       "  font-size: 10pt;\n",
       "}\n",
       "#T_c06ea_row1_col0 {\n",
       "  background-color: #de6c83;\n",
       "  color: #f1f1f1;\n",
       "  max-width: 80px;\n",
       "  font-size: 10pt;\n",
       "}\n",
       "#T_c06ea_row1_col3 {\n",
       "  background-color: #f0dee2;\n",
       "  color: #000000;\n",
       "  max-width: 80px;\n",
       "  font-size: 10pt;\n",
       "}\n",
       "#T_c06ea_row1_col4 {\n",
       "  background-color: #e492a3;\n",
       "  color: #f1f1f1;\n",
       "  max-width: 80px;\n",
       "  font-size: 10pt;\n",
       "}\n",
       "#T_c06ea_row2_col0 {\n",
       "  background-color: #bccce1;\n",
       "  color: #000000;\n",
       "  max-width: 80px;\n",
       "  font-size: 10pt;\n",
       "}\n",
       "#T_c06ea_row2_col3 {\n",
       "  background-color: #efd7dc;\n",
       "  color: #000000;\n",
       "  max-width: 80px;\n",
       "  font-size: 10pt;\n",
       "}\n",
       "#T_c06ea_row2_col4 {\n",
       "  background-color: #5585c0;\n",
       "  color: #f1f1f1;\n",
       "  max-width: 80px;\n",
       "  font-size: 10pt;\n",
       "}\n",
       "#T_c06ea_row3_col0 {\n",
       "  background-color: #dc5c76;\n",
       "  color: #f1f1f1;\n",
       "  max-width: 80px;\n",
       "  font-size: 10pt;\n",
       "}\n",
       "#T_c06ea_row3_col1 {\n",
       "  background-color: #d94764;\n",
       "  color: #f1f1f1;\n",
       "  max-width: 80px;\n",
       "  font-size: 10pt;\n",
       "}\n",
       "#T_c06ea_row3_col4 {\n",
       "  background-color: #e7a8b5;\n",
       "  color: #000000;\n",
       "  max-width: 80px;\n",
       "  font-size: 10pt;\n",
       "}\n",
       "#T_c06ea_row4_col0 {\n",
       "  background-color: #95b1d5;\n",
       "  color: #000000;\n",
       "  max-width: 80px;\n",
       "  font-size: 10pt;\n",
       "}\n",
       "#T_c06ea_row4_col2 {\n",
       "  background-color: #5c8ac2;\n",
       "  color: #f1f1f1;\n",
       "  max-width: 80px;\n",
       "  font-size: 10pt;\n",
       "}\n",
       "#T_c06ea_row4_col3 {\n",
       "  background-color: #f1e7e9;\n",
       "  color: #000000;\n",
       "  max-width: 80px;\n",
       "  font-size: 10pt;\n",
       "}\n",
       "</style>\n",
       "<table id=\"T_c06ea_\">\n",
       "  <caption>Hover to magify</caption>\n",
       "  <thead>\n",
       "    <tr>\n",
       "      <th class=\"blank level0\" >&nbsp;</th>\n",
       "      <th class=\"col_heading level0 col0\" >bio1</th>\n",
       "      <th class=\"col_heading level0 col1\" >bio3</th>\n",
       "      <th class=\"col_heading level0 col2\" >bio6</th>\n",
       "      <th class=\"col_heading level0 col3\" >bio9</th>\n",
       "      <th class=\"col_heading level0 col4\" >bio11</th>\n",
       "    </tr>\n",
       "  </thead>\n",
       "  <tbody>\n",
       "    <tr>\n",
       "      <th id=\"T_c06ea_level0_row0\" class=\"row_heading level0 row0\" >bio1</th>\n",
       "      <td id=\"T_c06ea_row0_col0\" class=\"data row0 col0\" >1.00</td>\n",
       "      <td id=\"T_c06ea_row0_col1\" class=\"data row0 col1\" >0.55</td>\n",
       "      <td id=\"T_c06ea_row0_col2\" class=\"data row0 col2\" >0.82</td>\n",
       "      <td id=\"T_c06ea_row0_col3\" class=\"data row0 col3\" >0.73</td>\n",
       "      <td id=\"T_c06ea_row0_col4\" class=\"data row0 col4\" >0.91</td>\n",
       "    </tr>\n",
       "    <tr>\n",
       "      <th id=\"T_c06ea_level0_row1\" class=\"row_heading level0 row1\" >bio3</th>\n",
       "      <td id=\"T_c06ea_row1_col0\" class=\"data row1 col0\" >0.55</td>\n",
       "      <td id=\"T_c06ea_row1_col1\" class=\"data row1 col1\" >1.00</td>\n",
       "      <td id=\"T_c06ea_row1_col2\" class=\"data row1 col2\" >0.48</td>\n",
       "      <td id=\"T_c06ea_row1_col3\" class=\"data row1 col3\" >0.71</td>\n",
       "      <td id=\"T_c06ea_row1_col4\" class=\"data row1 col4\" >0.61</td>\n",
       "    </tr>\n",
       "    <tr>\n",
       "      <th id=\"T_c06ea_level0_row2\" class=\"row_heading level0 row2\" >bio6</th>\n",
       "      <td id=\"T_c06ea_row2_col0\" class=\"data row2 col0\" >0.82</td>\n",
       "      <td id=\"T_c06ea_row2_col1\" class=\"data row2 col1\" >0.48</td>\n",
       "      <td id=\"T_c06ea_row2_col2\" class=\"data row2 col2\" >1.00</td>\n",
       "      <td id=\"T_c06ea_row2_col3\" class=\"data row2 col3\" >0.70</td>\n",
       "      <td id=\"T_c06ea_row2_col4\" class=\"data row2 col4\" >0.97</td>\n",
       "    </tr>\n",
       "    <tr>\n",
       "      <th id=\"T_c06ea_level0_row3\" class=\"row_heading level0 row3\" >bio9</th>\n",
       "      <td id=\"T_c06ea_row3_col0\" class=\"data row3 col0\" >0.73</td>\n",
       "      <td id=\"T_c06ea_row3_col1\" class=\"data row3 col1\" >0.71</td>\n",
       "      <td id=\"T_c06ea_row3_col2\" class=\"data row3 col2\" >0.70</td>\n",
       "      <td id=\"T_c06ea_row3_col3\" class=\"data row3 col3\" >1.00</td>\n",
       "      <td id=\"T_c06ea_row3_col4\" class=\"data row3 col4\" >0.79</td>\n",
       "    </tr>\n",
       "    <tr>\n",
       "      <th id=\"T_c06ea_level0_row4\" class=\"row_heading level0 row4\" >bio11</th>\n",
       "      <td id=\"T_c06ea_row4_col0\" class=\"data row4 col0\" >0.91</td>\n",
       "      <td id=\"T_c06ea_row4_col1\" class=\"data row4 col1\" >0.61</td>\n",
       "      <td id=\"T_c06ea_row4_col2\" class=\"data row4 col2\" >0.97</td>\n",
       "      <td id=\"T_c06ea_row4_col3\" class=\"data row4 col3\" >0.79</td>\n",
       "      <td id=\"T_c06ea_row4_col4\" class=\"data row4 col4\" >1.00</td>\n",
       "    </tr>\n",
       "  </tbody>\n",
       "</table>\n"
      ],
      "text/plain": [
       "<pandas.io.formats.style.Styler at 0x7fbb10fd5190>"
      ]
     },
     "execution_count": 23,
     "metadata": {},
     "output_type": "execute_result"
    }
   ],
   "source": [
    "#ver 2, a table \n",
    "cmap = cmap=sns.diverging_palette(5, 250, as_cmap=True)\n",
    "\n",
    "def magnify():\n",
    "    return [dict(selector=\"th\",\n",
    "                 props=[(\"font-size\", \"7pt\")]),\n",
    "            dict(selector=\"td\",\n",
    "                 props=[('padding', \"0em 0em\")]),\n",
    "            dict(selector=\"th:hover\",\n",
    "                 props=[(\"font-size\", \"12pt\")]),\n",
    "            dict(selector=\"tr:hover td:hover\",\n",
    "                 props=[('max-width', '200px'),\n",
    "                        ('font-size', '12pt')])\n",
    "]\n",
    "\n",
    "corr.style.background_gradient(cmap, axis=1)\\\n",
    "    .set_properties(**{'max-width': '80px', 'font-size': '10pt'})\\\n",
    "    .set_caption(\"Hover to magify\")\\\n",
    "    .set_precision(2)\\\n",
    "    .set_table_styles(magnify())"
   ]
  }
 ],
 "metadata": {
  "kernelspec": {
   "display_name": "Python 3 (ipykernel)",
   "language": "python",
   "name": "python3"
  },
  "language_info": {
   "codemirror_mode": {
    "name": "ipython",
    "version": 3
   },
   "file_extension": ".py",
   "mimetype": "text/x-python",
   "name": "python",
   "nbconvert_exporter": "python",
   "pygments_lexer": "ipython3",
   "version": "3.9.7"
  }
 },
 "nbformat": 4,
 "nbformat_minor": 5
}
